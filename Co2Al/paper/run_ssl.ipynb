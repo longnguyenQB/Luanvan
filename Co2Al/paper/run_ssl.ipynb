{
 "cells": [
  {
   "cell_type": "code",
   "execution_count": 1,
   "metadata": {},
   "outputs": [],
   "source": [
    "from importlib import reload\n",
    "from torch.nn import functional as F\n",
    "from sklearn.metrics import classification_report\n",
    "from sklearn.preprocessing import PolynomialFeatures\n",
    "from sklearn.metrics import confusion_matrix\n",
    "from sklearn.model_selection import train_test_split\n",
    "from sklearn.metrics import confusion_matrix, classification_report, f1_score, accuracy_score\n",
    "from tqdm.auto import tqdm\n",
    "import torch\n",
    "import matplotlib.pyplot as plt\n",
    "import pandas as pd\n",
    "import numpy as np\n",
    "import xgboost as xgb\n",
    "\n",
    "#import graph\n",
    "from graph_based.models.gnn.layers import GraphConvolution\n",
    "from graph_based.utils.loader import  get_dataset\n",
    "from graph_based.utils.evaluate import eval_normal, eval_hybrid\n",
    "# from graph_based.models.GAT import SpGAT\n",
    "from graph_based.train import train_hybrid\n",
    "from graph_based.models.gnn.layers import GraphConvolution\n",
    "from graph_based.models import resnet\n",
    "# from graph_based.models import GAT\n",
    "from graph_based.models.hyper_models import HybridGNN\n",
    "\n"
   ]
  },
  {
   "cell_type": "code",
   "execution_count": 2,
   "metadata": {},
   "outputs": [
    {
     "data": {
      "text/plain": [
       "<module 'graph_based.models.resnet' from 'd:\\\\AI Project\\\\Icaller\\\\graph_based\\\\models\\\\resnet.py'>"
      ]
     },
     "execution_count": 2,
     "metadata": {},
     "output_type": "execute_result"
    }
   ],
   "source": [
    "reload(resnet)"
   ]
  },
  {
   "cell_type": "code",
   "execution_count": 3,
   "metadata": {},
   "outputs": [],
   "source": [
    "poly = PolynomialFeatures(degree=2, interaction_only=True, include_bias=False)"
   ]
  },
  {
   "cell_type": "markdown",
   "metadata": {},
   "source": [
    "## import data"
   ]
  },
  {
   "cell_type": "code",
   "execution_count": 4,
   "metadata": {},
   "outputs": [],
   "source": [
    "features = pd.read_csv(\"./graph_based/dataset/node_2label_balance.csv\").to_numpy()\n",
    "links = pd.read_csv(\"./graph_based/dataset/edge_2label_balance.csv\").to_numpy().astype(float)\n",
    "links_df = pd.read_csv(\"./graph_based/dataset/edge_2label_balance.csv\")\n",
    "train_xgb = pd.read_csv(\"./graph_based/dataset/train.csv\").to_numpy()"
   ]
  },
  {
   "cell_type": "markdown",
   "metadata": {},
   "source": [
    "## get data train, test"
   ]
  },
  {
   "cell_type": "code",
   "execution_count": 5,
   "metadata": {},
   "outputs": [],
   "source": [
    "X_gnn_pool, X_gnn_test, X_xgb_pool, X_xgb_test, y_pool, y_test = train_test_split(features, train_xgb, features[:,-1],test_size=0.2, random_state= 42)"
   ]
  },
  {
   "cell_type": "code",
   "execution_count": 6,
   "metadata": {},
   "outputs": [],
   "source": [
    "X_gnn_train, X_gnn_unlabeled, X_xgb_train, X_xgb_unlabeled, y_train, y_unlabel = train_test_split(X_gnn_pool, X_xgb_pool, y_pool, test_size=0.5, random_state= 42)\n"
   ]
  },
  {
   "cell_type": "code",
   "execution_count": 7,
   "metadata": {},
   "outputs": [
    {
     "name": "stdout",
     "output_type": "stream",
     "text": [
      "(10665, 10) (10666, 10) (5333, 10)\n"
     ]
    }
   ],
   "source": [
    "print(X_gnn_train.shape, X_gnn_unlabeled.shape, X_gnn_test.shape)"
   ]
  },
  {
   "cell_type": "code",
   "execution_count": 13,
   "metadata": {},
   "outputs": [
    {
     "data": {
      "text/plain": [
       "array([1.07700000e+03, 1.07700000e+03, 1.07700000e+03, ...,\n",
       "       9.19998039e+11, 9.23336454e+11, 9.98775630e+07])"
      ]
     },
     "execution_count": 13,
     "metadata": {},
     "output_type": "execute_result"
    }
   ],
   "source": [
    "links[:,0]"
   ]
  },
  {
   "cell_type": "code",
   "execution_count": 12,
   "metadata": {},
   "outputs": [
    {
     "data": {
      "text/plain": [
       "array([8.43641252e+10, 8.49190430e+10, 8.49816775e+10, ...,\n",
       "       8.49634178e+10, 8.49662749e+10, 8.48661055e+10])"
      ]
     },
     "execution_count": 12,
     "metadata": {},
     "output_type": "execute_result"
    }
   ],
   "source": [
    "X_gnn_train[:,0]"
   ]
  },
  {
   "cell_type": "code",
   "execution_count": 9,
   "metadata": {},
   "outputs": [
    {
     "ename": "AttributeError",
     "evalue": "'numpy.ndarray' object has no attribute 'isin'",
     "output_type": "error",
     "traceback": [
      "\u001b[1;31m---------------------------------------------------------------------------\u001b[0m",
      "\u001b[1;31mAttributeError\u001b[0m                            Traceback (most recent call last)",
      "\u001b[1;32m<ipython-input-9-998e9b2678d4>\u001b[0m in \u001b[0;36m<module>\u001b[1;34m\u001b[0m\n\u001b[1;32m----> 1\u001b[1;33m \u001b[0mlink_train\u001b[0m \u001b[1;33m=\u001b[0m \u001b[0mlinks\u001b[0m\u001b[1;33m[\u001b[0m\u001b[0mlinks\u001b[0m\u001b[1;33m[\u001b[0m\u001b[1;33m:\u001b[0m\u001b[1;33m,\u001b[0m\u001b[1;36m0\u001b[0m\u001b[1;33m]\u001b[0m\u001b[1;33m.\u001b[0m\u001b[0misin\u001b[0m\u001b[1;33m(\u001b[0m\u001b[0mX_gnn_train\u001b[0m\u001b[1;33m[\u001b[0m\u001b[1;33m:\u001b[0m\u001b[1;33m,\u001b[0m\u001b[1;36m0\u001b[0m\u001b[1;33m]\u001b[0m\u001b[1;33m)\u001b[0m\u001b[1;33m]\u001b[0m\u001b[1;33m[\u001b[0m\u001b[0mlinks\u001b[0m\u001b[1;33m[\u001b[0m\u001b[1;33m:\u001b[0m\u001b[1;33m,\u001b[0m\u001b[1;36m1\u001b[0m\u001b[1;33m]\u001b[0m\u001b[1;33m.\u001b[0m\u001b[0misin\u001b[0m\u001b[1;33m(\u001b[0m\u001b[0mX_gnn_train\u001b[0m\u001b[1;33m[\u001b[0m\u001b[1;33m:\u001b[0m\u001b[1;36m0\u001b[0m\u001b[1;33m]\u001b[0m\u001b[1;33m)\u001b[0m\u001b[1;33m]\u001b[0m\u001b[1;33m\u001b[0m\u001b[1;33m\u001b[0m\u001b[0m\n\u001b[0m",
      "\u001b[1;31mAttributeError\u001b[0m: 'numpy.ndarray' object has no attribute 'isin'"
     ]
    }
   ],
   "source": [
    "link_train = links[links[:,0].isin(X_gnn_train[:,0])][links[:,1].isin(X_gnn_train[:0])]"
   ]
  },
  {
   "cell_type": "code",
   "execution_count": 14,
   "metadata": {},
   "outputs": [
    {
     "data": {
      "text/plain": [
       "array([False, False, False, ..., False, False,  True])"
      ]
     },
     "execution_count": 14,
     "metadata": {},
     "output_type": "execute_result"
    }
   ],
   "source": [
    "np.isin(links[:,0],X_gnn_train[:,0])"
   ]
  },
  {
   "cell_type": "code",
   "execution_count": 10,
   "metadata": {},
   "outputs": [
    {
     "name": "stderr",
     "output_type": "stream",
     "text": [
      "d:\\AI Project\\Icaller\\graph_based\\utils\\loader.py:20: UserWarning: Boolean Series key will be reindexed to match DataFrame index.\n",
      "  links = links_df[links_df['phone_to'].isin(features[:,0])][links_df['phone_in'].isin(features[:,0])]\n"
     ]
    }
   ],
   "source": [
    "dataset_train, nrm_adj_train, adjs_train = get_dataset(X_train, links_df, X_train.shape[0]) "
   ]
  },
  {
   "cell_type": "code",
   "execution_count": 16,
   "metadata": {},
   "outputs": [
    {
     "data": {
      "text/plain": [
       "array([[1.31026679e+10, 8.42456787e+11, 1.00000000e+00, ...,\n",
       "        1.00000000e+00, 1.00000000e+00, 0.00000000e+00],\n",
       "       [1.31026679e+10, 8.42499988e+11, 1.00000000e+00, ...,\n",
       "        0.00000000e+00, 0.00000000e+00, 0.00000000e+00],\n",
       "       [1.91240950e+10, 8.43426447e+10, 5.00000000e+00, ...,\n",
       "        7.00000000e+00, 2.00000000e+00, 8.37001435e+02],\n",
       "       ...,\n",
       "       [9.02706195e+08, 8.42856787e+11, 1.00000000e+00, ...,\n",
       "        1.00000000e+00, 1.00000000e+00, 0.00000000e+00],\n",
       "       [9.02706195e+08, 8.49058084e+10, 0.00000000e+00, ...,\n",
       "        1.00000000e+00, 0.00000000e+00, 0.00000000e+00],\n",
       "       [9.98775630e+07, 8.49026896e+10, 1.00000000e+00, ...,\n",
       "        1.00000000e+00, 0.00000000e+00, 0.00000000e+00]])"
      ]
     },
     "execution_count": 16,
     "metadata": {},
     "output_type": "execute_result"
    }
   ],
   "source": [
    "links[np.where(np.isin(links[:,0],X_gnn_train[:,0]))]"
   ]
  },
  {
   "cell_type": "code",
   "execution_count": 28,
   "metadata": {},
   "outputs": [
    {
     "data": {
      "text/plain": [
       "array([[5, 2, 0, 3],\n",
       "       [4, 5, 0, 6],\n",
       "       [8, 4, 8, 7],\n",
       "       [7, 7, 6, 1]])"
      ]
     },
     "execution_count": 28,
     "metadata": {},
     "output_type": "execute_result"
    }
   ],
   "source": [
    "tmp = np.array([[5, 2, 0, 3],\n",
    "       [4, 5, 0, 6],\n",
    "       [8, 4, 8, 7],\n",
    "       [7, 7, 6, 1]])\n",
    "tmp"
   ]
  },
  {
   "cell_type": "code",
   "execution_count": 34,
   "metadata": {},
   "outputs": [
    {
     "name": "stdout",
     "output_type": "stream",
     "text": [
      "[[4 5 0 6]\n",
      " [7 7 6 1]]\n"
     ]
    },
    {
     "data": {
      "text/plain": [
       "array([[7, 7, 6, 1]])"
      ]
     },
     "execution_count": 34,
     "metadata": {},
     "output_type": "execute_result"
    }
   ],
   "source": [
    "tmp1 = tmp[np.where(np.isin(tmp[:,0],[7,4]))]\n",
    "print(tmp1)\n",
    "tmp1[np.where(np.isin(tmp1[:,1],[7,4]))]"
   ]
  },
  {
   "cell_type": "markdown",
   "metadata": {},
   "source": [
    "## model resnet"
   ]
  },
  {
   "cell_type": "code",
   "execution_count": 11,
   "metadata": {},
   "outputs": [
    {
     "data": {
      "text/plain": [
       "<module 'graph_based.models.resnet' from 'd:\\\\AI Project\\\\Icaller\\\\graph_based\\\\models\\\\resnet.py'>"
      ]
     },
     "execution_count": 11,
     "metadata": {},
     "output_type": "execute_result"
    }
   ],
   "source": [
    "reload(resnet)"
   ]
  },
  {
   "cell_type": "code",
   "execution_count": 12,
   "metadata": {},
   "outputs": [],
   "source": [
    "nets = [resnet.ResNet(GraphConvolution,\n",
    "             in_features=features.shape[1] - 2,\n",
    "             cfg=[16, 16, 32, 16],\n",
    "             n_residual_units=[2, 2, 2],\n",
    "             hidden_layers_fc= [16,8],\n",
    "             num_classes=None) for _ in range(features.shape[1] - 2)]"
   ]
  },
  {
   "cell_type": "code",
   "execution_count": 13,
   "metadata": {},
   "outputs": [
    {
     "name": "stderr",
     "output_type": "stream",
     "text": [
      "c:\\Users\\GroooDev\\anaconda3\\lib\\site-packages\\torch\\nn\\modules\\lazy.py:178: UserWarning: Lazy modules are a new feature under heavy development so changes to the API or functionality can happen at any moment.\n",
      "  warnings.warn('Lazy modules are a new feature under heavy development '\n"
     ]
    }
   ],
   "source": [
    "model = HybridGNN(2, 'cuda', *nets).cuda()"
   ]
  },
  {
   "cell_type": "code",
   "execution_count": 14,
   "metadata": {},
   "outputs": [],
   "source": [
    "cummulative = []"
   ]
  },
  {
   "cell_type": "code",
   "execution_count": 15,
   "metadata": {},
   "outputs": [
    {
     "name": "stderr",
     "output_type": "stream",
     "text": [
      "d:\\AI Project\\Icaller\\graph_based\\utils\\loader.py:20: UserWarning: Boolean Series key will be reindexed to match DataFrame index.\n",
      "  links = links_df[links_df['phone_to'].isin(features[:,0])][links_df['phone_in'].isin(features[:,0])]\n"
     ]
    }
   ],
   "source": [
    "dataset_test, nrm_adj_test, adjs_test = get_dataset(X_test, links_df, X_test.shape[0]) "
   ]
  },
  {
   "cell_type": "code",
   "execution_count": 31,
   "metadata": {},
   "outputs": [
    {
     "name": "stderr",
     "output_type": "stream",
     "text": [
      "100%|██████████| 500/500 [02:38<00:00,  3.15it/s]\n"
     ]
    }
   ],
   "source": [
    "model, loss = train_hybrid(model, dataset_train, adjs_train, 'adamw', 'weighted_nll', 'cuda', 5e-5, 500)\n",
    "cummulative.extend(loss)"
   ]
  },
  {
   "cell_type": "code",
   "execution_count": 40,
   "metadata": {},
   "outputs": [],
   "source": [
    "# model.load_state_dict(torch.load(\"mode_new.pt\", map_location='cpu'))\n",
    "pred, f1_gnn, acc_gnn, prob = eval_hybrid(model, dataset_test.data, dataset_test.targets, adjs_test)\n",
    "pred, f1_resnet_train, acc_resnet_train, prob = eval_hybrid(model, dataset_train.data, dataset_train.targets, adjs_train)"
   ]
  },
  {
   "cell_type": "code",
   "execution_count": 41,
   "metadata": {},
   "outputs": [
    {
     "name": "stdout",
     "output_type": "stream",
     "text": [
      "0.8136376769719734 0.7581098818676167 10665\n",
      "0.8230075833452568 0.7680262541022035 10665\n"
     ]
    }
   ],
   "source": [
    "print(f1_gnn,acc_gnn, len(prob))\n",
    "print(f1_resnet_train,acc_resnet_train, len(prob))"
   ]
  },
  {
   "cell_type": "code",
   "execution_count": 34,
   "metadata": {},
   "outputs": [
    {
     "data": {
      "text/plain": [
       "[<matplotlib.lines.Line2D at 0x1cd18dd2580>]"
      ]
     },
     "execution_count": 34,
     "metadata": {},
     "output_type": "execute_result"
    },
    {
     "data": {
      "image/png": "[encoded data removed]",
      "text/plain": [
       "<Figure size 432x288 with 1 Axes>"
      ]
     },
     "metadata": {
      "needs_background": "light"
     },
     "output_type": "display_data"
    }
   ],
   "source": [
    "plt.plot(loss)"
   ]
  },
  {
   "cell_type": "code",
   "execution_count": 35,
   "metadata": {},
   "outputs": [
    {
     "data": {
      "text/plain": [
       "0.14114336669445038"
      ]
     },
     "execution_count": 35,
     "metadata": {},
     "output_type": "execute_result"
    }
   ],
   "source": [
    "loss[-1]"
   ]
  },
  {
   "cell_type": "code",
   "execution_count": 37,
   "metadata": {},
   "outputs": [],
   "source": [
    "# torch.save(model.state_dict(), \"mode_new.pt\")"
   ]
  },
  {
   "cell_type": "code",
   "execution_count": 38,
   "metadata": {},
   "outputs": [
    {
     "name": "stdout",
     "output_type": "stream",
     "text": [
      "[0]\tvalidation_0-logloss:0.69004\tvalidation_1-logloss:0.69002\n",
      "[1]\tvalidation_0-logloss:0.68693\tvalidation_1-logloss:0.68686\n",
      "[2]\tvalidation_0-logloss:0.68381\tvalidation_1-logloss:0.68371\n",
      "[3]\tvalidation_0-logloss:0.68081\tvalidation_1-logloss:0.68068\n",
      "[4]\tvalidation_0-logloss:0.67797\tvalidation_1-logloss:0.67782\n",
      "[5]\tvalidation_0-logloss:0.67502\tvalidation_1-logloss:0.67483\n",
      "[6]\tvalidation_0-logloss:0.67202\tvalidation_1-logloss:0.67183\n",
      "[7]\tvalidation_0-logloss:0.66905\tvalidation_1-logloss:0.66885\n",
      "[8]\tvalidation_0-logloss:0.66629\tvalidation_1-logloss:0.66606\n",
      "[9]\tvalidation_0-logloss:0.66346\tvalidation_1-logloss:0.66322\n",
      "[10]\tvalidation_0-logloss:0.66056\tvalidation_1-logloss:0.66031\n",
      "[11]\tvalidation_0-logloss:0.65790\tvalidation_1-logloss:0.65761\n",
      "[12]\tvalidation_0-logloss:0.65512\tvalidation_1-logloss:0.65481\n",
      "[13]\tvalidation_0-logloss:0.65250\tvalidation_1-logloss:0.65218\n",
      "[14]\tvalidation_0-logloss:0.64975\tvalidation_1-logloss:0.64942\n",
      "[15]\tvalidation_0-logloss:0.64733\tvalidation_1-logloss:0.64697\n",
      "[16]\tvalidation_0-logloss:0.64465\tvalidation_1-logloss:0.64429\n",
      "[17]\tvalidation_0-logloss:0.64204\tvalidation_1-logloss:0.64166\n",
      "[18]\tvalidation_0-logloss:0.63940\tvalidation_1-logloss:0.63899\n",
      "[19]\tvalidation_0-logloss:0.63677\tvalidation_1-logloss:0.63636\n",
      "[20]\tvalidation_0-logloss:0.63442\tvalidation_1-logloss:0.63397\n",
      "[21]\tvalidation_0-logloss:0.63196\tvalidation_1-logloss:0.63149\n",
      "[22]\tvalidation_0-logloss:0.62941\tvalidation_1-logloss:0.62894\n",
      "[23]\tvalidation_0-logloss:0.62685\tvalidation_1-logloss:0.62637\n",
      "[24]\tvalidation_0-logloss:0.62438\tvalidation_1-logloss:0.62389\n",
      "[25]\tvalidation_0-logloss:0.62202\tvalidation_1-logloss:0.62151\n",
      "[26]\tvalidation_0-logloss:0.61952\tvalidation_1-logloss:0.61900\n",
      "[27]\tvalidation_0-logloss:0.61708\tvalidation_1-logloss:0.61656\n",
      "[28]\tvalidation_0-logloss:0.61469\tvalidation_1-logloss:0.61414\n",
      "[29]\tvalidation_0-logloss:0.61230\tvalidation_1-logloss:0.61173\n",
      "[30]\tvalidation_0-logloss:0.60989\tvalidation_1-logloss:0.60931\n",
      "[31]\tvalidation_0-logloss:0.60750\tvalidation_1-logloss:0.60689\n",
      "[32]\tvalidation_0-logloss:0.60518\tvalidation_1-logloss:0.60457\n",
      "[33]\tvalidation_0-logloss:0.60299\tvalidation_1-logloss:0.60235\n",
      "[34]\tvalidation_0-logloss:0.60065\tvalidation_1-logloss:0.60000\n",
      "[35]\tvalidation_0-logloss:0.59839\tvalidation_1-logloss:0.59774\n",
      "[36]\tvalidation_0-logloss:0.59635\tvalidation_1-logloss:0.59569\n",
      "[37]\tvalidation_0-logloss:0.59420\tvalidation_1-logloss:0.59352\n",
      "[38]\tvalidation_0-logloss:0.59197\tvalidation_1-logloss:0.59127\n",
      "[39]\tvalidation_0-logloss:0.58969\tvalidation_1-logloss:0.58899\n",
      "[40]\tvalidation_0-logloss:0.58806\tvalidation_1-logloss:0.58737\n",
      "[41]\tvalidation_0-logloss:0.58599\tvalidation_1-logloss:0.58527\n",
      "[42]\tvalidation_0-logloss:0.58381\tvalidation_1-logloss:0.58307\n",
      "[43]\tvalidation_0-logloss:0.58167\tvalidation_1-logloss:0.58093\n",
      "[44]\tvalidation_0-logloss:0.57966\tvalidation_1-logloss:0.57889\n",
      "[45]\tvalidation_0-logloss:0.57749\tvalidation_1-logloss:0.57670\n",
      "[46]\tvalidation_0-logloss:0.57534\tvalidation_1-logloss:0.57452\n",
      "[47]\tvalidation_0-logloss:0.57338\tvalidation_1-logloss:0.57256\n",
      "[48]\tvalidation_0-logloss:0.57144\tvalidation_1-logloss:0.57060\n",
      "[49]\tvalidation_0-logloss:0.56946\tvalidation_1-logloss:0.56860\n",
      "[50]\tvalidation_0-logloss:0.56740\tvalidation_1-logloss:0.56654\n",
      "[51]\tvalidation_0-logloss:0.56541\tvalidation_1-logloss:0.56455\n",
      "[52]\tvalidation_0-logloss:0.56340\tvalidation_1-logloss:0.56253\n",
      "[53]\tvalidation_0-logloss:0.56141\tvalidation_1-logloss:0.56053\n",
      "[54]\tvalidation_0-logloss:0.55964\tvalidation_1-logloss:0.55875\n",
      "[55]\tvalidation_0-logloss:0.55769\tvalidation_1-logloss:0.55679\n",
      "[56]\tvalidation_0-logloss:0.55572\tvalidation_1-logloss:0.55481\n",
      "[57]\tvalidation_0-logloss:0.55375\tvalidation_1-logloss:0.55282\n",
      "[58]\tvalidation_0-logloss:0.55197\tvalidation_1-logloss:0.55102\n",
      "[59]\tvalidation_0-logloss:0.55006\tvalidation_1-logloss:0.54910\n",
      "[60]\tvalidation_0-logloss:0.54816\tvalidation_1-logloss:0.54718\n",
      "[61]\tvalidation_0-logloss:0.54631\tvalidation_1-logloss:0.54532\n",
      "[62]\tvalidation_0-logloss:0.54441\tvalidation_1-logloss:0.54341\n",
      "[63]\tvalidation_0-logloss:0.54259\tvalidation_1-logloss:0.54159\n",
      "[64]\tvalidation_0-logloss:0.54078\tvalidation_1-logloss:0.53977\n",
      "[65]\tvalidation_0-logloss:0.53896\tvalidation_1-logloss:0.53795\n",
      "[66]\tvalidation_0-logloss:0.53732\tvalidation_1-logloss:0.53631\n",
      "[67]\tvalidation_0-logloss:0.53564\tvalidation_1-logloss:0.53462\n",
      "[68]\tvalidation_0-logloss:0.53384\tvalidation_1-logloss:0.53280\n",
      "[69]\tvalidation_0-logloss:0.53206\tvalidation_1-logloss:0.53101\n",
      "[70]\tvalidation_0-logloss:0.53032\tvalidation_1-logloss:0.52926\n",
      "[71]\tvalidation_0-logloss:0.52854\tvalidation_1-logloss:0.52748\n",
      "[72]\tvalidation_0-logloss:0.52692\tvalidation_1-logloss:0.52586\n",
      "[73]\tvalidation_0-logloss:0.52530\tvalidation_1-logloss:0.52423\n",
      "[74]\tvalidation_0-logloss:0.52370\tvalidation_1-logloss:0.52261\n",
      "[75]\tvalidation_0-logloss:0.52202\tvalidation_1-logloss:0.52093\n",
      "[76]\tvalidation_0-logloss:0.52036\tvalidation_1-logloss:0.51926\n",
      "[77]\tvalidation_0-logloss:0.51873\tvalidation_1-logloss:0.51762\n",
      "[78]\tvalidation_0-logloss:0.51710\tvalidation_1-logloss:0.51599\n",
      "[79]\tvalidation_0-logloss:0.51549\tvalidation_1-logloss:0.51438\n",
      "[80]\tvalidation_0-logloss:0.51388\tvalidation_1-logloss:0.51276\n",
      "[81]\tvalidation_0-logloss:0.51226\tvalidation_1-logloss:0.51113\n",
      "[82]\tvalidation_0-logloss:0.51065\tvalidation_1-logloss:0.50950\n",
      "[83]\tvalidation_0-logloss:0.50904\tvalidation_1-logloss:0.50787\n",
      "[84]\tvalidation_0-logloss:0.50747\tvalidation_1-logloss:0.50630\n",
      "[85]\tvalidation_0-logloss:0.50599\tvalidation_1-logloss:0.50482\n",
      "[86]\tvalidation_0-logloss:0.50446\tvalidation_1-logloss:0.50329\n",
      "[87]\tvalidation_0-logloss:0.50291\tvalidation_1-logloss:0.50172\n",
      "[88]\tvalidation_0-logloss:0.50136\tvalidation_1-logloss:0.50017\n",
      "[89]\tvalidation_0-logloss:0.49981\tvalidation_1-logloss:0.49862\n",
      "[90]\tvalidation_0-logloss:0.49829\tvalidation_1-logloss:0.49708\n",
      "[91]\tvalidation_0-logloss:0.49679\tvalidation_1-logloss:0.49556\n",
      "[92]\tvalidation_0-logloss:0.49530\tvalidation_1-logloss:0.49406\n",
      "[93]\tvalidation_0-logloss:0.49381\tvalidation_1-logloss:0.49256\n",
      "[94]\tvalidation_0-logloss:0.49236\tvalidation_1-logloss:0.49109\n",
      "[95]\tvalidation_0-logloss:0.49092\tvalidation_1-logloss:0.48964\n",
      "[96]\tvalidation_0-logloss:0.48957\tvalidation_1-logloss:0.48827\n",
      "[97]\tvalidation_0-logloss:0.48815\tvalidation_1-logloss:0.48685\n",
      "[98]\tvalidation_0-logloss:0.48673\tvalidation_1-logloss:0.48541\n",
      "[99]\tvalidation_0-logloss:0.48534\tvalidation_1-logloss:0.48401\n",
      "[100]\tvalidation_0-logloss:0.48401\tvalidation_1-logloss:0.48268\n",
      "[101]\tvalidation_0-logloss:0.48262\tvalidation_1-logloss:0.48128\n",
      "[102]\tvalidation_0-logloss:0.48127\tvalidation_1-logloss:0.47992\n",
      "[103]\tvalidation_0-logloss:0.47991\tvalidation_1-logloss:0.47854\n",
      "[104]\tvalidation_0-logloss:0.47853\tvalidation_1-logloss:0.47717\n",
      "[105]\tvalidation_0-logloss:0.47718\tvalidation_1-logloss:0.47581\n",
      "[106]\tvalidation_0-logloss:0.47583\tvalidation_1-logloss:0.47446\n",
      "[107]\tvalidation_0-logloss:0.47446\tvalidation_1-logloss:0.47310\n",
      "[108]\tvalidation_0-logloss:0.47310\tvalidation_1-logloss:0.47173\n",
      "[109]\tvalidation_0-logloss:0.47192\tvalidation_1-logloss:0.47054\n",
      "[110]\tvalidation_0-logloss:0.47062\tvalidation_1-logloss:0.46923\n",
      "[111]\tvalidation_0-logloss:0.46939\tvalidation_1-logloss:0.46797\n",
      "[112]\tvalidation_0-logloss:0.46808\tvalidation_1-logloss:0.46666\n",
      "[113]\tvalidation_0-logloss:0.46686\tvalidation_1-logloss:0.46543\n",
      "[114]\tvalidation_0-logloss:0.46558\tvalidation_1-logloss:0.46416\n",
      "[115]\tvalidation_0-logloss:0.46437\tvalidation_1-logloss:0.46294\n",
      "[116]\tvalidation_0-logloss:0.46309\tvalidation_1-logloss:0.46167\n",
      "[117]\tvalidation_0-logloss:0.46181\tvalidation_1-logloss:0.46038\n",
      "[118]\tvalidation_0-logloss:0.46061\tvalidation_1-logloss:0.45919\n",
      "[119]\tvalidation_0-logloss:0.45937\tvalidation_1-logloss:0.45794\n",
      "[120]\tvalidation_0-logloss:0.45823\tvalidation_1-logloss:0.45680\n",
      "[121]\tvalidation_0-logloss:0.45702\tvalidation_1-logloss:0.45558\n",
      "[122]\tvalidation_0-logloss:0.45582\tvalidation_1-logloss:0.45437\n",
      "[123]\tvalidation_0-logloss:0.45460\tvalidation_1-logloss:0.45316\n",
      "[124]\tvalidation_0-logloss:0.45340\tvalidation_1-logloss:0.45197\n",
      "[125]\tvalidation_0-logloss:0.45222\tvalidation_1-logloss:0.45079\n",
      "[126]\tvalidation_0-logloss:0.45105\tvalidation_1-logloss:0.44962\n",
      "[127]\tvalidation_0-logloss:0.44994\tvalidation_1-logloss:0.44849\n",
      "[128]\tvalidation_0-logloss:0.44879\tvalidation_1-logloss:0.44734\n",
      "[129]\tvalidation_0-logloss:0.44763\tvalidation_1-logloss:0.44619\n",
      "[130]\tvalidation_0-logloss:0.44648\tvalidation_1-logloss:0.44506\n",
      "[131]\tvalidation_0-logloss:0.44534\tvalidation_1-logloss:0.44391\n",
      "[132]\tvalidation_0-logloss:0.44418\tvalidation_1-logloss:0.44274\n",
      "[133]\tvalidation_0-logloss:0.44307\tvalidation_1-logloss:0.44163\n",
      "[134]\tvalidation_0-logloss:0.44195\tvalidation_1-logloss:0.44050\n",
      "[135]\tvalidation_0-logloss:0.44084\tvalidation_1-logloss:0.43940\n",
      "[136]\tvalidation_0-logloss:0.43978\tvalidation_1-logloss:0.43834\n",
      "[137]\tvalidation_0-logloss:0.43871\tvalidation_1-logloss:0.43726\n",
      "[138]\tvalidation_0-logloss:0.43761\tvalidation_1-logloss:0.43616\n",
      "[139]\tvalidation_0-logloss:0.43652\tvalidation_1-logloss:0.43506\n",
      "[140]\tvalidation_0-logloss:0.43551\tvalidation_1-logloss:0.43406\n",
      "[141]\tvalidation_0-logloss:0.43443\tvalidation_1-logloss:0.43298\n",
      "[142]\tvalidation_0-logloss:0.43341\tvalidation_1-logloss:0.43196\n",
      "[143]\tvalidation_0-logloss:0.43238\tvalidation_1-logloss:0.43093\n",
      "[144]\tvalidation_0-logloss:0.43132\tvalidation_1-logloss:0.42985\n",
      "[145]\tvalidation_0-logloss:0.43028\tvalidation_1-logloss:0.42880\n",
      "[146]\tvalidation_0-logloss:0.42928\tvalidation_1-logloss:0.42781\n",
      "[147]\tvalidation_0-logloss:0.42824\tvalidation_1-logloss:0.42678\n",
      "[148]\tvalidation_0-logloss:0.42724\tvalidation_1-logloss:0.42578\n",
      "[149]\tvalidation_0-logloss:0.42626\tvalidation_1-logloss:0.42478\n",
      "[150]\tvalidation_0-logloss:0.42524\tvalidation_1-logloss:0.42378\n",
      "[151]\tvalidation_0-logloss:0.42422\tvalidation_1-logloss:0.42275\n",
      "[152]\tvalidation_0-logloss:0.42322\tvalidation_1-logloss:0.42176\n",
      "[153]\tvalidation_0-logloss:0.42228\tvalidation_1-logloss:0.42083\n",
      "[154]\tvalidation_0-logloss:0.42130\tvalidation_1-logloss:0.41984\n",
      "[155]\tvalidation_0-logloss:0.42043\tvalidation_1-logloss:0.41897\n",
      "[156]\tvalidation_0-logloss:0.41946\tvalidation_1-logloss:0.41800\n",
      "[157]\tvalidation_0-logloss:0.41860\tvalidation_1-logloss:0.41713\n",
      "[158]\tvalidation_0-logloss:0.41770\tvalidation_1-logloss:0.41623\n",
      "[159]\tvalidation_0-logloss:0.41675\tvalidation_1-logloss:0.41528\n",
      "[160]\tvalidation_0-logloss:0.41579\tvalidation_1-logloss:0.41432\n",
      "[161]\tvalidation_0-logloss:0.41486\tvalidation_1-logloss:0.41341\n",
      "[162]\tvalidation_0-logloss:0.41394\tvalidation_1-logloss:0.41249\n",
      "[163]\tvalidation_0-logloss:0.41312\tvalidation_1-logloss:0.41166\n",
      "[164]\tvalidation_0-logloss:0.41219\tvalidation_1-logloss:0.41074\n",
      "[165]\tvalidation_0-logloss:0.41129\tvalidation_1-logloss:0.40983\n",
      "[166]\tvalidation_0-logloss:0.41037\tvalidation_1-logloss:0.40892\n",
      "[167]\tvalidation_0-logloss:0.40945\tvalidation_1-logloss:0.40800\n",
      "[168]\tvalidation_0-logloss:0.40858\tvalidation_1-logloss:0.40712\n",
      "[169]\tvalidation_0-logloss:0.40768\tvalidation_1-logloss:0.40623\n",
      "[170]\tvalidation_0-logloss:0.40678\tvalidation_1-logloss:0.40534\n",
      "[171]\tvalidation_0-logloss:0.40589\tvalidation_1-logloss:0.40445\n",
      "[172]\tvalidation_0-logloss:0.40503\tvalidation_1-logloss:0.40361\n",
      "[173]\tvalidation_0-logloss:0.40414\tvalidation_1-logloss:0.40271\n",
      "[174]\tvalidation_0-logloss:0.40329\tvalidation_1-logloss:0.40185\n",
      "[175]\tvalidation_0-logloss:0.40242\tvalidation_1-logloss:0.40100\n",
      "[176]\tvalidation_0-logloss:0.40154\tvalidation_1-logloss:0.40013\n",
      "[177]\tvalidation_0-logloss:0.40069\tvalidation_1-logloss:0.39926\n",
      "[178]\tvalidation_0-logloss:0.39984\tvalidation_1-logloss:0.39842\n",
      "[179]\tvalidation_0-logloss:0.39902\tvalidation_1-logloss:0.39759\n",
      "[180]\tvalidation_0-logloss:0.39819\tvalidation_1-logloss:0.39675\n",
      "[181]\tvalidation_0-logloss:0.39746\tvalidation_1-logloss:0.39601\n",
      "[182]\tvalidation_0-logloss:0.39662\tvalidation_1-logloss:0.39517\n",
      "[183]\tvalidation_0-logloss:0.39580\tvalidation_1-logloss:0.39435\n",
      "[184]\tvalidation_0-logloss:0.39508\tvalidation_1-logloss:0.39362\n",
      "[185]\tvalidation_0-logloss:0.39434\tvalidation_1-logloss:0.39291\n",
      "[186]\tvalidation_0-logloss:0.39359\tvalidation_1-logloss:0.39215\n",
      "[187]\tvalidation_0-logloss:0.39276\tvalidation_1-logloss:0.39134\n",
      "[188]\tvalidation_0-logloss:0.39199\tvalidation_1-logloss:0.39057\n",
      "[189]\tvalidation_0-logloss:0.39121\tvalidation_1-logloss:0.38979\n",
      "[190]\tvalidation_0-logloss:0.39048\tvalidation_1-logloss:0.38904\n",
      "[191]\tvalidation_0-logloss:0.38971\tvalidation_1-logloss:0.38827\n",
      "[192]\tvalidation_0-logloss:0.38893\tvalidation_1-logloss:0.38749\n",
      "[193]\tvalidation_0-logloss:0.38817\tvalidation_1-logloss:0.38674\n",
      "[194]\tvalidation_0-logloss:0.38739\tvalidation_1-logloss:0.38598\n",
      "[195]\tvalidation_0-logloss:0.38664\tvalidation_1-logloss:0.38522\n",
      "[196]\tvalidation_0-logloss:0.38587\tvalidation_1-logloss:0.38446\n",
      "[197]\tvalidation_0-logloss:0.38513\tvalidation_1-logloss:0.38373\n",
      "[198]\tvalidation_0-logloss:0.38438\tvalidation_1-logloss:0.38298\n",
      "[199]\tvalidation_0-logloss:0.38364\tvalidation_1-logloss:0.38226\n",
      "[200]\tvalidation_0-logloss:0.38295\tvalidation_1-logloss:0.38157\n",
      "[201]\tvalidation_0-logloss:0.38222\tvalidation_1-logloss:0.38084\n",
      "[202]\tvalidation_0-logloss:0.38148\tvalidation_1-logloss:0.38010\n",
      "[203]\tvalidation_0-logloss:0.38076\tvalidation_1-logloss:0.37938\n",
      "[204]\tvalidation_0-logloss:0.38002\tvalidation_1-logloss:0.37864\n",
      "[205]\tvalidation_0-logloss:0.37931\tvalidation_1-logloss:0.37794\n",
      "[206]\tvalidation_0-logloss:0.37861\tvalidation_1-logloss:0.37724\n",
      "[207]\tvalidation_0-logloss:0.37789\tvalidation_1-logloss:0.37654\n",
      "[208]\tvalidation_0-logloss:0.37718\tvalidation_1-logloss:0.37583\n",
      "[209]\tvalidation_0-logloss:0.37650\tvalidation_1-logloss:0.37515\n",
      "[210]\tvalidation_0-logloss:0.37579\tvalidation_1-logloss:0.37445\n",
      "[211]\tvalidation_0-logloss:0.37512\tvalidation_1-logloss:0.37378\n",
      "[212]\tvalidation_0-logloss:0.37443\tvalidation_1-logloss:0.37310\n",
      "[213]\tvalidation_0-logloss:0.37383\tvalidation_1-logloss:0.37249\n",
      "[214]\tvalidation_0-logloss:0.37315\tvalidation_1-logloss:0.37182\n",
      "[215]\tvalidation_0-logloss:0.37252\tvalidation_1-logloss:0.37120\n",
      "[216]\tvalidation_0-logloss:0.37184\tvalidation_1-logloss:0.37053\n",
      "[217]\tvalidation_0-logloss:0.37119\tvalidation_1-logloss:0.36990\n",
      "[218]\tvalidation_0-logloss:0.37050\tvalidation_1-logloss:0.36921\n",
      "[219]\tvalidation_0-logloss:0.36989\tvalidation_1-logloss:0.36861\n",
      "[220]\tvalidation_0-logloss:0.36927\tvalidation_1-logloss:0.36798\n",
      "[221]\tvalidation_0-logloss:0.36863\tvalidation_1-logloss:0.36734\n",
      "[222]\tvalidation_0-logloss:0.36797\tvalidation_1-logloss:0.36668\n",
      "[223]\tvalidation_0-logloss:0.36735\tvalidation_1-logloss:0.36607\n",
      "[224]\tvalidation_0-logloss:0.36667\tvalidation_1-logloss:0.36540\n",
      "[225]\tvalidation_0-logloss:0.36607\tvalidation_1-logloss:0.36479\n",
      "[226]\tvalidation_0-logloss:0.36544\tvalidation_1-logloss:0.36415\n",
      "[227]\tvalidation_0-logloss:0.36480\tvalidation_1-logloss:0.36353\n",
      "[228]\tvalidation_0-logloss:0.36418\tvalidation_1-logloss:0.36291\n",
      "[229]\tvalidation_0-logloss:0.36364\tvalidation_1-logloss:0.36236\n",
      "[230]\tvalidation_0-logloss:0.36304\tvalidation_1-logloss:0.36178\n",
      "[231]\tvalidation_0-logloss:0.36242\tvalidation_1-logloss:0.36117\n",
      "[232]\tvalidation_0-logloss:0.36186\tvalidation_1-logloss:0.36061\n",
      "[233]\tvalidation_0-logloss:0.36125\tvalidation_1-logloss:0.36001\n",
      "[234]\tvalidation_0-logloss:0.36065\tvalidation_1-logloss:0.35941\n",
      "[235]\tvalidation_0-logloss:0.36006\tvalidation_1-logloss:0.35883\n",
      "[236]\tvalidation_0-logloss:0.35946\tvalidation_1-logloss:0.35823\n",
      "[237]\tvalidation_0-logloss:0.35893\tvalidation_1-logloss:0.35770\n",
      "[238]\tvalidation_0-logloss:0.35835\tvalidation_1-logloss:0.35712\n",
      "[239]\tvalidation_0-logloss:0.35774\tvalidation_1-logloss:0.35653\n",
      "[240]\tvalidation_0-logloss:0.35716\tvalidation_1-logloss:0.35595\n",
      "[241]\tvalidation_0-logloss:0.35662\tvalidation_1-logloss:0.35541\n",
      "[242]\tvalidation_0-logloss:0.35606\tvalidation_1-logloss:0.35486\n",
      "[243]\tvalidation_0-logloss:0.35548\tvalidation_1-logloss:0.35428\n",
      "[244]\tvalidation_0-logloss:0.35495\tvalidation_1-logloss:0.35375\n",
      "[245]\tvalidation_0-logloss:0.35440\tvalidation_1-logloss:0.35321\n",
      "[246]\tvalidation_0-logloss:0.35383\tvalidation_1-logloss:0.35264\n",
      "[247]\tvalidation_0-logloss:0.35325\tvalidation_1-logloss:0.35208\n",
      "[248]\tvalidation_0-logloss:0.35285\tvalidation_1-logloss:0.35167\n",
      "[249]\tvalidation_0-logloss:0.35231\tvalidation_1-logloss:0.35115\n",
      "[250]\tvalidation_0-logloss:0.35179\tvalidation_1-logloss:0.35064\n",
      "[251]\tvalidation_0-logloss:0.35124\tvalidation_1-logloss:0.35007\n",
      "[252]\tvalidation_0-logloss:0.35070\tvalidation_1-logloss:0.34955\n",
      "[253]\tvalidation_0-logloss:0.35014\tvalidation_1-logloss:0.34900\n",
      "[254]\tvalidation_0-logloss:0.34957\tvalidation_1-logloss:0.34845\n",
      "[255]\tvalidation_0-logloss:0.34908\tvalidation_1-logloss:0.34797\n",
      "[256]\tvalidation_0-logloss:0.34855\tvalidation_1-logloss:0.34743\n",
      "[257]\tvalidation_0-logloss:0.34800\tvalidation_1-logloss:0.34689\n",
      "[258]\tvalidation_0-logloss:0.34748\tvalidation_1-logloss:0.34636\n",
      "[259]\tvalidation_0-logloss:0.34700\tvalidation_1-logloss:0.34587\n",
      "[260]\tvalidation_0-logloss:0.34647\tvalidation_1-logloss:0.34534\n",
      "[261]\tvalidation_0-logloss:0.34597\tvalidation_1-logloss:0.34485\n",
      "[262]\tvalidation_0-logloss:0.34544\tvalidation_1-logloss:0.34433\n",
      "[263]\tvalidation_0-logloss:0.34499\tvalidation_1-logloss:0.34387\n",
      "[264]\tvalidation_0-logloss:0.34449\tvalidation_1-logloss:0.34338\n",
      "[265]\tvalidation_0-logloss:0.34398\tvalidation_1-logloss:0.34288\n",
      "[266]\tvalidation_0-logloss:0.34347\tvalidation_1-logloss:0.34238\n",
      "[267]\tvalidation_0-logloss:0.34297\tvalidation_1-logloss:0.34188\n",
      "[268]\tvalidation_0-logloss:0.34245\tvalidation_1-logloss:0.34136\n",
      "[269]\tvalidation_0-logloss:0.34195\tvalidation_1-logloss:0.34087\n",
      "[270]\tvalidation_0-logloss:0.34148\tvalidation_1-logloss:0.34039\n",
      "[271]\tvalidation_0-logloss:0.34098\tvalidation_1-logloss:0.33990\n",
      "[272]\tvalidation_0-logloss:0.34049\tvalidation_1-logloss:0.33941\n",
      "[273]\tvalidation_0-logloss:0.34001\tvalidation_1-logloss:0.33894\n",
      "[274]\tvalidation_0-logloss:0.33951\tvalidation_1-logloss:0.33845\n",
      "[275]\tvalidation_0-logloss:0.33903\tvalidation_1-logloss:0.33798\n",
      "[276]\tvalidation_0-logloss:0.33854\tvalidation_1-logloss:0.33750\n",
      "[277]\tvalidation_0-logloss:0.33811\tvalidation_1-logloss:0.33708\n",
      "[278]\tvalidation_0-logloss:0.33766\tvalidation_1-logloss:0.33663\n",
      "[279]\tvalidation_0-logloss:0.33718\tvalidation_1-logloss:0.33618\n",
      "[280]\tvalidation_0-logloss:0.33673\tvalidation_1-logloss:0.33571\n",
      "[281]\tvalidation_0-logloss:0.33631\tvalidation_1-logloss:0.33530\n",
      "[282]\tvalidation_0-logloss:0.33582\tvalidation_1-logloss:0.33482\n",
      "[283]\tvalidation_0-logloss:0.33537\tvalidation_1-logloss:0.33438\n",
      "[284]\tvalidation_0-logloss:0.33493\tvalidation_1-logloss:0.33396\n",
      "[285]\tvalidation_0-logloss:0.33445\tvalidation_1-logloss:0.33348\n",
      "[286]\tvalidation_0-logloss:0.33402\tvalidation_1-logloss:0.33306\n",
      "[287]\tvalidation_0-logloss:0.33359\tvalidation_1-logloss:0.33262\n",
      "[288]\tvalidation_0-logloss:0.33312\tvalidation_1-logloss:0.33216\n",
      "[289]\tvalidation_0-logloss:0.33269\tvalidation_1-logloss:0.33173\n",
      "[290]\tvalidation_0-logloss:0.33226\tvalidation_1-logloss:0.33131\n",
      "[291]\tvalidation_0-logloss:0.33185\tvalidation_1-logloss:0.33090\n",
      "[292]\tvalidation_0-logloss:0.33141\tvalidation_1-logloss:0.33046\n",
      "[293]\tvalidation_0-logloss:0.33098\tvalidation_1-logloss:0.33005\n",
      "[294]\tvalidation_0-logloss:0.33057\tvalidation_1-logloss:0.32964\n",
      "[295]\tvalidation_0-logloss:0.33013\tvalidation_1-logloss:0.32921\n",
      "[296]\tvalidation_0-logloss:0.32975\tvalidation_1-logloss:0.32882\n",
      "[297]\tvalidation_0-logloss:0.32933\tvalidation_1-logloss:0.32842\n",
      "[298]\tvalidation_0-logloss:0.32893\tvalidation_1-logloss:0.32802\n",
      "[299]\tvalidation_0-logloss:0.32852\tvalidation_1-logloss:0.32761\n"
     ]
    }
   ],
   "source": [
    "XGB1 = xgb.XGBClassifier(eval_metric = \"logloss\",objective = \"binary:logistic\", booster = \"gbtree\", tree_method = \"gpu_hist\",\n",
    "                             max_depth = 4, gamma = 2, learning_rate = 0.005, n_estimators = 300, subsample = 0.7 , colsample_bytree = 0.7, min_child_weight = 4, use_label_encoder  = False )\n",
    "evalset1 = [(X_xgb_train[:,1:-1], y_train), (X_xgb_test[:,1:-1], y_test)]\n",
    "XGB1 = XGB1.fit(X_xgb_train[:,1:-1], y_train , eval_metric='logloss', eval_set=evalset1)"
   ]
  },
  {
   "cell_type": "code",
   "execution_count": 42,
   "metadata": {},
   "outputs": [],
   "source": [
    "prediction_test1 = XGB1.predict(X_xgb_test[:,1:-1])\n",
    "f1_xgb = f1_score(y_test,prediction_test1)\n",
    "acc_xgb = accuracy_score(y_test,prediction_test1)"
   ]
  },
  {
   "cell_type": "code",
   "execution_count": 45,
   "metadata": {},
   "outputs": [
    {
     "name": "stdout",
     "output_type": "stream",
     "text": [
      "0.8924274593064402 0.8859928745546597\n",
      "0.8136376769719734 0.7581098818676167 10665\n"
     ]
    }
   ],
   "source": [
    "print(f1_xgb, acc_xgb)\n",
    "print(f1_gnn,acc_gnn, len(prob))"
   ]
  },
  {
   "cell_type": "markdown",
   "metadata": {},
   "source": [
    "## Cotrain mvlearn based"
   ]
  },
  {
   "cell_type": "code",
   "execution_count": 55,
   "metadata": {},
   "outputs": [],
   "source": [
    "estimator = [XGB1, model]\n",
    "X_train_list = [X_xgb_train, X_train]\n",
    "X_unlabeled_list = [X_xgb_unlabeled, X_unlabeled ]\n",
    "X_test_list = [X_xgb_test, dataset_test, adjs_test]\n",
    "\n",
    "# f1_cotrain, acc_cotrain, f1_test1, acc_test1, f1_test2, acc_test2, f1_train2, acc_train2, cummulative = cotrain(estimator, X_train_list, X_unlabeled_list, X_test_list, y_train, y_test, 10, 10,2000,100, links_df)"
   ]
  },
  {
   "cell_type": "code",
   "execution_count": 68,
   "metadata": {},
   "outputs": [],
   "source": [
    "def predict_ct(estimator1, estimator2, X_xgb_test, dataset_test, adjs_test):\n",
    "    # predict each view independently\n",
    "    y1 = estimator1.predict(X_xgb_test[:,1:-1])\n",
    "    y2,  _, _, y2_probs = eval_hybrid(estimator2, dataset_test.data, dataset_test.targets, adjs_test)\n",
    "    # initialize\n",
    "    y_pred = np.zeros(X_xgb_test.shape[0],)\n",
    "    \n",
    "    y1_probs = estimator1.predict_proba(X_xgb_test[:,1:-1])\n",
    "    y2_probs = y2_probs.cpu().numpy()\n",
    "\n",
    "    # predict samples based on trained classifiers\n",
    "    for i, (y1_i, y2_i) in enumerate(zip(y1, y2)):\n",
    "        \n",
    "        # if classifiers agree, use their prediction\n",
    "        if y1_i == y2_i:\n",
    "            y_pred[i] = y1_i\n",
    "        # if classifiers don't agree, take the more confident\n",
    "        else:\n",
    "            sum_y_probs = [prob1 + prob2 for (prob1, prob2) in\n",
    "                            zip(y1_probs[i], y2_probs[i])]\n",
    "\n",
    "            y_pred[i] = np.argmax(sum_y_probs)\n",
    "    return y_pred\n",
    "\n",
    "def cotrain(estimator1, estimator2, X_train, X_unlabeled, X_xgb_train, X_xgb_unlabeled, y_train, p, n, unlabeled_pool_size , k ):\n",
    "    \n",
    "    global dataset_test, adjs_test, X_test, X_xgb_test, f1_gnn, acc_gnn, loss\n",
    "    f1_gnn_test = [f1_gnn]\n",
    "    acc_gnn_test = [acc_gnn]\n",
    "    f1_xgb_test = [f1_xgb]\n",
    "    acc_xgb_test = [acc_xgb]\n",
    "    loss_gnn = [loss[-1]]\n",
    "    # set of unlabeled samples\n",
    "    U = np.array(range(X_unlabeled.shape[0]))\n",
    "\n",
    "    # shuffle unlabeled_pool data for easy random access\n",
    "    np.random.shuffle(U)\n",
    "\n",
    "    # the small pool of unlabled samples to draw from in training\n",
    "    unlabeled_pool = U[-min(len(U), unlabeled_pool_size):]\n",
    "\n",
    "    # remove the pool from overall unlabeled data\n",
    "    U = U[:-len(unlabeled_pool)].tolist()\n",
    "\n",
    "    # number of rounds of co-training\n",
    "    counter = 0\n",
    "\n",
    "    # machine epsilon\n",
    "    eps = np.finfo(float).eps\n",
    "    \n",
    "    y_train1 = y_train.copy()\n",
    "    y_train2 = y_train.copy()\n",
    "\n",
    "    while counter < k and U :\n",
    "        counter+=1 \n",
    "                \n",
    "        temp1 = X_xgb_unlabeled[unlabeled_pool]\n",
    "        \n",
    "        temp2 = X_unlabeled[unlabeled_pool]\n",
    "        \n",
    "        links = links_df[links_df['phone_to'].isin(temp2[:,0])][links_df['phone_in'].isin(temp2[:,0])]\n",
    "\n",
    "        dataset, _ , adjs = get_dataset(temp2, links.to_numpy().astype(float), temp2.shape[0])\n",
    "        \n",
    "        # predict log probability for greater spread in confidence\n",
    "\n",
    "        y1_prob = np.log(estimator1.predict_proba(temp1[:,1:-1]) + eps)\n",
    "        \n",
    "        _,  _, _, prob = eval_hybrid(estimator2, dataset.data, dataset.targets, adjs)\n",
    "        y2_prob = np.log(prob.cpu().numpy() + eps)\n",
    "        \n",
    "        n_index1, p_index1, n_index2, p_index2= [], [], [], []\n",
    "        \n",
    "        # take the most confident labeled examples from the\n",
    "        # unlabeled pool in each category and put them in L\n",
    "        for i in (y1_prob[:, 0].argsort())[-n:]:\n",
    "            if y1_prob[i, 0] > np.log(0.5):\n",
    "                n_index1.append(i)\n",
    "        for i in (y1_prob[:, 1].argsort())[-p:]:\n",
    "            if y1_prob[i, 1] > np.log(0.5):\n",
    "                p_index1.append(i)\n",
    "        for i in (y2_prob[:, 0].argsort())[-n:]:\n",
    "            if y2_prob[i, 0] > np.log(0.5):\n",
    "                n_index2.append(i)\n",
    "        for i in (y2_prob[:, 1].argsort())[-p:]:\n",
    "            if y2_prob[i, 1] > np.log(0.5):\n",
    "                p_index2.append(i)\n",
    "        \n",
    "        # n_index = np.unique(n_index).tolist()\n",
    "        # p_index = np.unique(p_index).tolist()\n",
    "        \n",
    "        # create new labels for new additions to the labeled group\n",
    "        y_train1 = np.concatenate((y_train1, \n",
    "                            [0]*len(n_index2), \n",
    "                            [1]*len(p_index2)),\n",
    "                            axis = 0)\n",
    "        y_train2 = np.concatenate((y_train2, \n",
    "                            [0]*len(n_index1), \n",
    "                            [1]*len(p_index1)),\n",
    "                            axis = 0)\n",
    "        \n",
    "        X_xgb_train = np.concatenate((X_xgb_train, \n",
    "                                X_xgb_unlabeled[[unlabeled_pool[x] for x in n_index2]],  \n",
    "                                X_xgb_unlabeled[[unlabeled_pool[x] for x in p_index2]]))\n",
    "        X_train = np.concatenate((X_train, \n",
    "                                X_unlabeled[[unlabeled_pool[x] for x in n_index1]],  \n",
    "                                X_unlabeled[[unlabeled_pool[x] for x in p_index1]]))\n",
    "        # remove newly labeled samples from unlabeled_pool\n",
    "        del_unlabeled_pool = [unlabeled_pool[x] for x in np.unique(n_index1 + p_index1 + n_index2 + p_index2).tolist()]\n",
    "        unlabeled_pool = np.array(unlabeled_pool)[~np.isin(unlabeled_pool, del_unlabeled_pool)].tolist()\n",
    "        # add new elements to unlabeled_pool\n",
    "        add_counter = 0\n",
    "        num_to_add = len(del_unlabeled_pool) \n",
    "        while add_counter != num_to_add and U :\n",
    "            add_counter += 1\n",
    "            unlabeled_pool.append(U.pop())           \n",
    "        print('len(U)',len(U))  \n",
    "\n",
    "        \n",
    "        # get new dataset for graph\n",
    "        links = links_df[links_df['phone_to'].isin(X_train[:,0])][links_df['phone_in'].isin(X_train[:,0])]\n",
    "        \n",
    "        dataset, _ , adjs = get_dataset(X_train, links.to_numpy().astype(float), X_train.shape[0])\n",
    "        \n",
    "        # fit new data\n",
    "        estimator1 = estimator1.fit(X_xgb_train[:,1:-1],y_train1)\n",
    "        estimator2, loss = train_hybrid(estimator2, dataset, adjs, 'adamw', 'multilabel', 'cuda', 5e-4, 200)\n",
    "        loss_gnn.append(loss[-1])\n",
    "        \n",
    "        y_pred_my_ct = predict_ct(estimator1, estimator2, X_xgb_test, dataset_test, adjs_test )\n",
    "        \n",
    "        # get value evaluate\n",
    "        f1_cotrain.append(f1_score(y_test,y_pred_my_ct))\n",
    "        acc_cotrain.append(accuracy_score(y_test,y_pred_my_ct))\n",
    "\n",
    "        #Keeping track of accuracy\n",
    "        \n",
    "        prediction_test1 =estimator1.predict(X_xgb_test[:,1:-1])\n",
    "        \n",
    "        f1_xgb_test.append(f1_score(y_test,prediction_test1))\n",
    "        acc_xgb_test.append(accuracy_score(y_test,prediction_test1))\n",
    "        \n",
    "        _,  acc, f, _ = eval_hybrid(estimator2, dataset_test.data, dataset_test.targets, adjs_test)\n",
    "        acc_gnn_test.append(acc)\n",
    "        f1_gnn_test.append(f)\n",
    "    \n",
    "        _,  acc, f, _ = eval_hybrid(estimator2, dataset.data, dataset.targets, adjs)\n",
    "        acc_gnn_train.append(acc)\n",
    "        f1_gnn_train.append(f)\n",
    "        print(\"Interator {0}\".format(counter))\n",
    "        print(\"==========================================================\")\n",
    "\n",
    "    # predict each view independently\n",
    "    \n",
    "    \n",
    "    return f1_cotrain, acc_cotrain, f1_xgb_test, acc_xgb_test, acc_gnn_train, f1_gnn_train, acc_gnn_test, f1_gnn_test, loss_gnn"
   ]
  },
  {
   "cell_type": "code",
   "execution_count": 69,
   "metadata": {},
   "outputs": [
    {
     "name": "stdout",
     "output_type": "stream",
     "text": [
      "[[8.47054161e+10 0.00000000e+00 0.00000000e+00 ... 0.00000000e+00\n",
      "  0.00000000e+00 1.00000000e+00]\n",
      " [8.48998819e+10 1.00000000e+00 0.00000000e+00 ... 0.00000000e+00\n",
      "  4.85665278e+02 1.00000000e+00]\n",
      " [8.49695705e+10 1.00000000e+00 0.00000000e+00 ... 0.00000000e+00\n",
      "  1.18707049e+02 1.00000000e+00]\n",
      " ...\n",
      " [8.43674369e+10 2.00000000e+00 0.00000000e+00 ... 2.00000000e+00\n",
      "  0.00000000e+00 1.00000000e+00]\n",
      " [8.49674371e+10 1.00000000e+00 0.00000000e+00 ... 0.00000000e+00\n",
      "  0.00000000e+00 0.00000000e+00]\n",
      " [8.49769167e+10 0.00000000e+00 0.00000000e+00 ... 0.00000000e+00\n",
      "  0.00000000e+00 0.00000000e+00]]\n"
     ]
    },
    {
     "name": "stderr",
     "output_type": "stream",
     "text": [
      "<ipython-input-68-b79d855b1176>:63: UserWarning: Boolean Series key will be reindexed to match DataFrame index.\n",
      "  links = links_df[links_df['phone_to'].isin(temp2[:,0])][links_df['phone_in'].isin(temp2[:,0])]\n"
     ]
    },
    {
     "ename": "IndexError",
     "evalue": "only integers, slices (`:`), ellipsis (`...`), numpy.newaxis (`None`) and integer or boolean arrays are valid indices",
     "output_type": "error",
     "traceback": [
      "\u001b[1;31m---------------------------------------------------------------------------\u001b[0m",
      "\u001b[1;31mIndexError\u001b[0m                                Traceback (most recent call last)",
      "\u001b[1;32m<ipython-input-69-95443b96f232>\u001b[0m in \u001b[0;36m<module>\u001b[1;34m\u001b[0m\n\u001b[1;32m----> 1\u001b[1;33m \u001b[0mf1_cotrain\u001b[0m\u001b[1;33m,\u001b[0m \u001b[0macc_cotrain\u001b[0m\u001b[1;33m,\u001b[0m \u001b[0mf1_xgb_test\u001b[0m\u001b[1;33m,\u001b[0m \u001b[0macc_xgb_test\u001b[0m\u001b[1;33m,\u001b[0m \u001b[0macc_gnn_train\u001b[0m\u001b[1;33m,\u001b[0m \u001b[0mf1_gnn_train\u001b[0m\u001b[1;33m,\u001b[0m \u001b[0macc_gnn_test\u001b[0m\u001b[1;33m,\u001b[0m \u001b[0mf1_gnn_test\u001b[0m\u001b[1;33m,\u001b[0m \u001b[0mloss_gnn\u001b[0m \u001b[1;33m=\u001b[0m \u001b[0mcotrain\u001b[0m\u001b[1;33m(\u001b[0m\u001b[0mXGB1\u001b[0m\u001b[1;33m,\u001b[0m \u001b[0mmodel\u001b[0m\u001b[1;33m,\u001b[0m \u001b[0mX_train\u001b[0m\u001b[1;33m,\u001b[0m \u001b[0mX_unlabeled\u001b[0m\u001b[1;33m,\u001b[0m \u001b[0mX_xgb_train\u001b[0m\u001b[1;33m,\u001b[0m \u001b[0mX_xgb_unlabeled\u001b[0m\u001b[1;33m,\u001b[0m \u001b[0my_train\u001b[0m\u001b[1;33m,\u001b[0m \u001b[1;36m30\u001b[0m\u001b[1;33m,\u001b[0m \u001b[1;36m30\u001b[0m\u001b[1;33m,\u001b[0m \u001b[1;36m1000\u001b[0m\u001b[1;33m,\u001b[0m \u001b[1;36m50\u001b[0m \u001b[1;33m)\u001b[0m\u001b[1;33m\u001b[0m\u001b[1;33m\u001b[0m\u001b[0m\n\u001b[0m",
      "\u001b[1;32m<ipython-input-68-b79d855b1176>\u001b[0m in \u001b[0;36mcotrain\u001b[1;34m(estimator1, estimator2, X_train, X_unlabeled, X_xgb_train, X_xgb_unlabeled, y_train, p, n, unlabeled_pool_size, k)\u001b[0m\n\u001b[0;32m     63\u001b[0m         \u001b[0mlinks\u001b[0m \u001b[1;33m=\u001b[0m \u001b[0mlinks_df\u001b[0m\u001b[1;33m[\u001b[0m\u001b[0mlinks_df\u001b[0m\u001b[1;33m[\u001b[0m\u001b[1;34m'phone_to'\u001b[0m\u001b[1;33m]\u001b[0m\u001b[1;33m.\u001b[0m\u001b[0misin\u001b[0m\u001b[1;33m(\u001b[0m\u001b[0mtemp2\u001b[0m\u001b[1;33m[\u001b[0m\u001b[1;33m:\u001b[0m\u001b[1;33m,\u001b[0m\u001b[1;36m0\u001b[0m\u001b[1;33m]\u001b[0m\u001b[1;33m)\u001b[0m\u001b[1;33m]\u001b[0m\u001b[1;33m[\u001b[0m\u001b[0mlinks_df\u001b[0m\u001b[1;33m[\u001b[0m\u001b[1;34m'phone_in'\u001b[0m\u001b[1;33m]\u001b[0m\u001b[1;33m.\u001b[0m\u001b[0misin\u001b[0m\u001b[1;33m(\u001b[0m\u001b[0mtemp2\u001b[0m\u001b[1;33m[\u001b[0m\u001b[1;33m:\u001b[0m\u001b[1;33m,\u001b[0m\u001b[1;36m0\u001b[0m\u001b[1;33m]\u001b[0m\u001b[1;33m)\u001b[0m\u001b[1;33m]\u001b[0m\u001b[1;33m\u001b[0m\u001b[1;33m\u001b[0m\u001b[0m\n\u001b[0;32m     64\u001b[0m \u001b[1;33m\u001b[0m\u001b[0m\n\u001b[1;32m---> 65\u001b[1;33m         \u001b[0mdataset\u001b[0m\u001b[1;33m,\u001b[0m \u001b[0m_\u001b[0m \u001b[1;33m,\u001b[0m \u001b[0madjs\u001b[0m \u001b[1;33m=\u001b[0m \u001b[0mget_dataset\u001b[0m\u001b[1;33m(\u001b[0m\u001b[0mtemp2\u001b[0m\u001b[1;33m,\u001b[0m \u001b[0mlinks\u001b[0m\u001b[1;33m.\u001b[0m\u001b[0mto_numpy\u001b[0m\u001b[1;33m(\u001b[0m\u001b[1;33m)\u001b[0m\u001b[1;33m.\u001b[0m\u001b[0mastype\u001b[0m\u001b[1;33m(\u001b[0m\u001b[0mfloat\u001b[0m\u001b[1;33m)\u001b[0m\u001b[1;33m,\u001b[0m \u001b[0mtemp2\u001b[0m\u001b[1;33m.\u001b[0m\u001b[0mshape\u001b[0m\u001b[1;33m[\u001b[0m\u001b[1;36m0\u001b[0m\u001b[1;33m]\u001b[0m\u001b[1;33m)\u001b[0m\u001b[1;33m\u001b[0m\u001b[1;33m\u001b[0m\u001b[0m\n\u001b[0m\u001b[0;32m     66\u001b[0m \u001b[1;33m\u001b[0m\u001b[0m\n\u001b[0;32m     67\u001b[0m         \u001b[1;31m# predict log probability for greater spread in confidence\u001b[0m\u001b[1;33m\u001b[0m\u001b[1;33m\u001b[0m\u001b[1;33m\u001b[0m\u001b[0m\n",
      "\u001b[1;32md:\\AI Project\\Icaller\\graph_based\\utils\\loader.py\u001b[0m in \u001b[0;36mget_dataset\u001b[1;34m(features, links_df, num_nodes)\u001b[0m\n\u001b[0;32m     18\u001b[0m \u001b[1;32mdef\u001b[0m \u001b[0mget_dataset\u001b[0m\u001b[1;33m(\u001b[0m\u001b[0mfeatures\u001b[0m\u001b[1;33m,\u001b[0m \u001b[0mlinks_df\u001b[0m\u001b[1;33m,\u001b[0m \u001b[0mnum_nodes\u001b[0m\u001b[1;33m)\u001b[0m\u001b[1;33m:\u001b[0m\u001b[1;33m\u001b[0m\u001b[1;33m\u001b[0m\u001b[0m\n\u001b[0;32m     19\u001b[0m \u001b[1;33m\u001b[0m\u001b[0m\n\u001b[1;32m---> 20\u001b[1;33m     \u001b[0mlinks\u001b[0m \u001b[1;33m=\u001b[0m \u001b[0mlinks_df\u001b[0m\u001b[1;33m[\u001b[0m\u001b[0mlinks_df\u001b[0m\u001b[1;33m[\u001b[0m\u001b[1;34m'phone_to'\u001b[0m\u001b[1;33m]\u001b[0m\u001b[1;33m.\u001b[0m\u001b[0misin\u001b[0m\u001b[1;33m(\u001b[0m\u001b[0mfeatures\u001b[0m\u001b[1;33m[\u001b[0m\u001b[1;33m:\u001b[0m\u001b[1;33m,\u001b[0m\u001b[1;36m0\u001b[0m\u001b[1;33m]\u001b[0m\u001b[1;33m)\u001b[0m\u001b[1;33m]\u001b[0m\u001b[1;33m[\u001b[0m\u001b[0mlinks_df\u001b[0m\u001b[1;33m[\u001b[0m\u001b[1;34m'phone_in'\u001b[0m\u001b[1;33m]\u001b[0m\u001b[1;33m.\u001b[0m\u001b[0misin\u001b[0m\u001b[1;33m(\u001b[0m\u001b[0mfeatures\u001b[0m\u001b[1;33m[\u001b[0m\u001b[1;33m:\u001b[0m\u001b[1;33m,\u001b[0m\u001b[1;36m0\u001b[0m\u001b[1;33m]\u001b[0m\u001b[1;33m)\u001b[0m\u001b[1;33m]\u001b[0m\u001b[1;33m\u001b[0m\u001b[1;33m\u001b[0m\u001b[0m\n\u001b[0m\u001b[0;32m     21\u001b[0m \u001b[1;33m\u001b[0m\u001b[0m\n\u001b[0;32m     22\u001b[0m     \u001b[0mlinks\u001b[0m \u001b[1;33m=\u001b[0m \u001b[0mlinks\u001b[0m\u001b[1;33m.\u001b[0m\u001b[0mto_numpy\u001b[0m\u001b[1;33m(\u001b[0m\u001b[1;33m)\u001b[0m\u001b[1;33m.\u001b[0m\u001b[0mastype\u001b[0m\u001b[1;33m(\u001b[0m\u001b[0mfloat\u001b[0m\u001b[1;33m)\u001b[0m\u001b[1;33m\u001b[0m\u001b[1;33m\u001b[0m\u001b[0m\n",
      "\u001b[1;31mIndexError\u001b[0m: only integers, slices (`:`), ellipsis (`...`), numpy.newaxis (`None`) and integer or boolean arrays are valid indices"
     ]
    }
   ],
   "source": [
    "f1_cotrain, acc_cotrain, f1_xgb_test, acc_xgb_test, acc_gnn_train, f1_gnn_train, acc_gnn_test, f1_gnn_test, loss_gnn = cotrain(XGB1, model, X_train, X_unlabeled, X_xgb_train, X_xgb_unlabeled, y_train, 30, 30, 1000, 50 )"
   ]
  },
  {
   "cell_type": "code",
   "execution_count": 58,
   "metadata": {},
   "outputs": [],
   "source": [
    "# import matplotlib.pyplot as plt\n",
    "# from matplotlib.pyplot import figure\n",
    "# import matplotlib.patches as mpatches\n",
    "\n",
    "\n",
    "# indexing = range(len(f1_cotrain))\n",
    "# # hnd1, = plt.plot(indexing,f1_cotrain,'r',label='f1_cotrain')\n",
    "# hnd1, = plt.plot(indexing,acc_cotrain,'g',label='acc_cotrain')\n",
    "# # hnd2, = plt.plot(indexing,f1_xgb_test,'b',label='f1_xgb_test')\n",
    "# hnd2, = plt.plot(indexing,acc_xgb_test,'c',label='acc_xgb_test')\n",
    "# hnd2, = plt.plot(indexing,acc_gnn_train,'k',label='acc_gnn_train')\n",
    "# # hnd2, = plt.plot(indexing,f1_gnn_train,'m',label='f1_gnn_train')\n",
    "# hnd2, = plt.plot(indexing,acc_gnn_test,'y',label='acc_gnn_test')\n",
    "# # hnd2, = plt.plot(indexing,f1_gnn_test,'w',label='f1_gnn_test')\n",
    "# # print(num_n_new,num_p_new)\n",
    "\n",
    "# plt.legend(loc='best')\n",
    "# plt.ylabel('Accuracy')\n",
    "# plt.xlabel('Iteration')\n",
    "# plt.title('Dropout')\n",
    "# plt.rcParams[\"figure.figsize\"] = (10,10)\n",
    "# plt.show()"
   ]
  },
  {
   "cell_type": "code",
   "execution_count": 59,
   "metadata": {},
   "outputs": [],
   "source": [
    "# plt.plot(loss_gnn)"
   ]
  },
  {
   "cell_type": "markdown",
   "metadata": {},
   "source": [
    "## CoAL"
   ]
  },
  {
   "cell_type": "code",
   "execution_count": 60,
   "metadata": {},
   "outputs": [],
   "source": [
    "def coAL(estimator1, estimator2, X_train, X_unlabeled, y_train, p, n, unlabeled_pool_size , k ):\n",
    "    \n",
    "\n",
    "    # set of unlabeled samples\n",
    "    U = np.array(range(X_unlabeled.shape[0]))\n",
    "\n",
    "    # shuffle unlabeled_pool data for easy random access\n",
    "    np.random.shuffle(U)\n",
    "\n",
    "    # the small pool of unlabled samples to draw from in training\n",
    "    unlabeled_pool = U[-min(len(U), unlabeled_pool_size):]\n",
    "\n",
    "    # remove the pool from overall unlabeled data\n",
    "    U = U[:-len(unlabeled_pool)].tolist()\n",
    "\n",
    "    # number of rounds of co-training\n",
    "    counter = 0\n",
    "\n",
    "    # machine epsilon\n",
    "    eps = np.finfo(float).eps\n",
    "\n",
    "    while counter < k :\n",
    "        counter+=1 \n",
    "                \n",
    "        temp1 = X_unlabeled[unlabeled_pool]\n",
    "        \n",
    "        temp2 = X_unlabeled[unlabeled_pool]\n",
    "\n",
    "        \n",
    "        links = links_df[links_df['phone_to'].isin(temp2[:,0])][links_df['phone_in'].isin(temp2[:,0])]\n",
    "\n",
    "        dataset, _ , adjs = get_dataset(temp2, links.to_numpy().astype(float), temp2.shape[0])\n",
    "        \n",
    "        # predict log probability for greater spread in confidence\n",
    "\n",
    "        y1_prob = estimator1.predict_proba(temp1[:,1:-1])\n",
    "        b1 = abs(y1_prob[:, 0] - y1_prob[:, 1])\n",
    "        y1_prob = np.log(y1_prob + eps)\n",
    "        \n",
    "        _,  _, _, prob = eval_hybrid(estimator2, dataset.data, dataset.targets, adjs)\n",
    "        y2_prob = prob.cpu()\n",
    "        b2 = abs(y2_prob[:, 0] - y2_prob[:, 1])\n",
    "        y2_prob = np.log(y2_prob + eps).numpy()\n",
    "        \n",
    "        b_index = []\n",
    "        \n",
    "        for i in range(len(b1)):\n",
    "            if b1[i] < 0.5:\n",
    "                b_index.append(i)\n",
    "        for i in range(len(b2)):\n",
    "            if b2[i] < 0.5:\n",
    "                b_index.append(i)\n",
    "        \n",
    "        b_index = np.unique(b_index).tolist()\n",
    "        \n",
    "        X_train = np.concatenate((X_train, \n",
    "                                X_unlabel[[unlabeled_pool[x] for x in b_index]]))\n",
    "        y_train = np.concatenate((y_train, \n",
    "                            X_unlabel[[unlabeled_pool[x] for x in b_index]][:,-1]),\n",
    "                            axis = 0)\n",
    "        \n",
    "        n_index, p_index = [], []\n",
    "        # take the most confident labeled examples from the\n",
    "        # unlabeled pool in each category and put them in L\n",
    "        for i in (y1_prob[:, 0].argsort())[-n:]:\n",
    "            if y1_prob[i, 0] > np.log(0.7):\n",
    "                n_index.append(i)\n",
    "        for i in (y1_prob[:, 1].argsort())[-p:]:\n",
    "            if y1_prob[i, 1] > np.log(0.7):\n",
    "                p_index.append(i)\n",
    "        for i in (y2_prob[:, 0].argsort())[-n:]:\n",
    "            if y2_prob[i, 0] > np.log(0.7):\n",
    "                n_index.append(i)\n",
    "        for i in (y2_prob[:, 1].argsort())[-p:]:\n",
    "            if y2_prob[i, 1] > np.log(0.7):\n",
    "                p_index.append(i)\n",
    "        \n",
    "        n_index = np.unique(n_index).tolist()\n",
    "        p_index = np.unique(p_index).tolist()\n",
    "        # create new labels for new additions to the labeled group\n",
    "        y_train = np.concatenate((y_train, \n",
    "                            [0]*len(n_index), \n",
    "                            [1]*len(p_index)),\n",
    "                            axis = 0)\n",
    "        \n",
    "        X_train = np.concatenate((X_train, \n",
    "                                X_unlabel[[unlabeled_pool[x] for x in n_index]],  \n",
    "                                X_unlabel[[unlabeled_pool[x] for x in p_index]]))\n",
    "        # remove newly labeled samples from unlabeled_pool\n",
    "        del_unlabeled_pool = [unlabeled_pool[x] for x in np.unique(n_index+p_index+b_index).tolist()]\n",
    "        unlabeled_pool = np.array(unlabeled_pool)[~np.isin(unlabeled_pool, del_unlabeled_pool)].tolist()\n",
    "        # add new elements to unlabeled_pool\n",
    "        add_counter = 0\n",
    "        num_to_add = len(np.unique(n_index+p_index+b_index).tolist())\n",
    "        while add_counter != num_to_add and U :\n",
    "            add_counter += 1\n",
    "            unlabeled_pool.append(U.pop())           \n",
    "                        \n",
    "        \n",
    "        \n",
    "\n",
    "        estimator1.fit(X_train[:,1:-1],y_train)\n",
    "        \n",
    "        links = links_df[links_df['phone_to'].isin(X_train[:,0])][links_df['phone_in'].isin(X_train[:,0])]\n",
    "        \n",
    "        dataset, _ , adjs = get_dataset(X_train, links.to_numpy().astype(float), X_train.shape[0])\n",
    "        \n",
    "        estimator2, loss = train_hybrid(estimator2, dataset, adjs, 'adamw', 'multilabel', 'cuda', 1e-3, 100)\n",
    "\n",
    "        \n",
    "        #Keeping track of accuracy\n",
    "        \n",
    "        prediction_test1 =estimator1.predict(X_test[:,1:-1])\n",
    "        \n",
    "        f1.append(f1_score(y_test,prediction_test1))\n",
    "        acc1.append(accuracy_score(y_test,prediction_test1))\n",
    "        \n",
    "        _,  acc, f, _ = eval_hybrid(estimator2, dataset_test.data, dataset_test.targets, adjs_test)\n",
    "        acc2.append(acc)\n",
    "        f2.append(f)\n",
    "    \n",
    "        _,  acc, _, _ = eval_hybrid(estimator2, dataset.data, dataset.targets, adjs)\n",
    "        acc3.append(acc)\n",
    "        \n",
    "\n",
    "        print(\"Interator {0}\".format(counter+1))\n",
    "        print(\"==========================================================\")\n",
    "        counter+=1\n",
    "    print(\"lenU\", len(U))\n",
    "    return acc1, f1, acc2, f2, acc3,  X_train, y_train"
   ]
  },
  {
   "cell_type": "code",
   "execution_count": 61,
   "metadata": {},
   "outputs": [
    {
     "ename": "NameError",
     "evalue": "name 'X_unlabel' is not defined",
     "output_type": "error",
     "traceback": [
      "\u001b[1;31m---------------------------------------------------------------------------\u001b[0m",
      "\u001b[1;31mNameError\u001b[0m                                 Traceback (most recent call last)",
      "\u001b[1;32m<ipython-input-61-aeaa904d4505>\u001b[0m in \u001b[0;36m<module>\u001b[1;34m\u001b[0m\n\u001b[1;32m----> 1\u001b[1;33m \u001b[0macc1\u001b[0m\u001b[1;33m,\u001b[0m \u001b[0mf1\u001b[0m\u001b[1;33m,\u001b[0m \u001b[0macc2\u001b[0m\u001b[1;33m,\u001b[0m \u001b[0mf2\u001b[0m\u001b[1;33m,\u001b[0m \u001b[0macc3\u001b[0m\u001b[1;33m,\u001b[0m  \u001b[0m_\u001b[0m\u001b[1;33m,\u001b[0m \u001b[0m_\u001b[0m \u001b[1;33m=\u001b[0m \u001b[0mcoAL\u001b[0m\u001b[1;33m(\u001b[0m\u001b[0mXGB1\u001b[0m\u001b[1;33m,\u001b[0m \u001b[0mmodel\u001b[0m\u001b[1;33m,\u001b[0m \u001b[0mX_train\u001b[0m\u001b[1;33m,\u001b[0m \u001b[0mX_unlabel\u001b[0m\u001b[1;33m,\u001b[0m \u001b[0my_train\u001b[0m\u001b[1;33m,\u001b[0m \u001b[1;36m10\u001b[0m\u001b[1;33m,\u001b[0m \u001b[1;36m10\u001b[0m\u001b[1;33m,\u001b[0m \u001b[1;36m1000\u001b[0m \u001b[1;33m,\u001b[0m \u001b[1;36m100\u001b[0m \u001b[1;33m)\u001b[0m\u001b[1;33m\u001b[0m\u001b[1;33m\u001b[0m\u001b[0m\n\u001b[0m",
      "\u001b[1;31mNameError\u001b[0m: name 'X_unlabel' is not defined"
     ]
    }
   ],
   "source": [
    "acc1, f1, acc2, f2, acc3,  _, _ = coAL(XGB1, model, X_train, X_unlabel, y_train, 10, 10, 1000 , 100 )"
   ]
  },
  {
   "cell_type": "code",
   "execution_count": null,
   "metadata": {},
   "outputs": [
    {
     "data": {
      "image/png": "[encoded data removed]",
      "text/plain": [
       "<Figure size 432x288 with 1 Axes>"
      ]
     },
     "metadata": {
      "needs_background": "light"
     },
     "output_type": "display_data"
    }
   ],
   "source": [
    "import matplotlib.pyplot as plt\n",
    "import matplotlib.patches as mpatches\n",
    "\n",
    "indexing = range(len(acc1)-1)\n",
    "hnd1, = plt.plot(indexing,acc1[1:],'r',label='train1')\n",
    "hnd1, = plt.plot(indexing,f1[1:],'g',label='train1')\n",
    "hnd2, = plt.plot(indexing,acc2[1:],'b',label='train2')\n",
    "hnd2, = plt.plot(indexing,f2[1:],'c',label='train2')\n",
    "hnd2, = plt.plot(indexing,acc3[1:],'k',label='train2')\n",
    "hnd2, = plt.plot(indexing,acc3[1:],'m',label='train2')\n",
    "# print(num_n_new,num_p_new)\n",
    "plt.legend(loc='best')\n",
    "plt.ylabel('F1')\n",
    "plt.xlabel('Co-Training with XGB and Graph')\n",
    "plt.title('Get new label by threshold')\n",
    "plt.show()"
   ]
  },
  {
   "cell_type": "markdown",
   "metadata": {},
   "source": [
    "## Co2AL"
   ]
  },
  {
   "cell_type": "code",
   "execution_count": null,
   "metadata": {},
   "outputs": [],
   "source": [
    "def co2al(estimator1, estimator2, X_train, X_unlabeled, X_xgb_train, X_xgb_unlabeled, y_train, p, n, unlabeled_pool_size , k ):\n",
    "    \n",
    "    global dataset_test, adjs_test, X_test, X_xgb_test, f1_resnet, acc_resnet\n",
    "    \n",
    "    f1_cotrain = [f1_resnet]\n",
    "    acc_cotrain = [acc_resnet]\n",
    "    f1_gnn_train = [f1_resnet]\n",
    "    acc_gnn_train = [acc_resnet]\n",
    "    f1_gnn_test = [f1_resnet]\n",
    "    acc_gnn_test = [acc_resnet]\n",
    "    f1_xgb_test = [f1_xgb]\n",
    "    acc_xgb_test = [acc_xgb]\n",
    "    # set of unlabeled samples\n",
    "    U = np.array(range(X_unlabeled.shape[0]))\n",
    "\n",
    "    # shuffle unlabeled_pool data for easy random access\n",
    "    np.random.shuffle(U)\n",
    "\n",
    "    # the small pool of unlabled samples to draw from in training\n",
    "    unlabeled_pool = U[-min(len(U), unlabeled_pool_size):]\n",
    "\n",
    "    # remove the pool from overall unlabeled data\n",
    "    U = U[:-len(unlabeled_pool)].tolist()\n",
    "\n",
    "    # number of rounds of co-training\n",
    "    counter = 0\n",
    "\n",
    "    # machine epsilon\n",
    "    eps = np.finfo(float).eps\n",
    "\n",
    "    while counter < k and U :\n",
    "        counter+=1 \n",
    "                \n",
    "        temp1 = X_xgb_unlabeled[unlabeled_pool]\n",
    "        \n",
    "        temp2 = X_unlabeled[unlabeled_pool]\n",
    "\n",
    "        \n",
    "        links = links_df[links_df['phone_to'].isin(temp2[:,0])][links_df['phone_in'].isin(temp2[:,0])]\n",
    "\n",
    "        dataset, _ , adjs = get_dataset(temp2, links.to_numpy().astype(float), temp2.shape[0])\n",
    "        \n",
    "        # predict log probability for greater spread in confidence\n",
    "        \n",
    "        # predict log probability for greater spread in confidence\n",
    "\n",
    "        y1_prob = estimator1.predict_proba(temp1[:,1:-1])\n",
    "        b1 = abs(y1_prob[:, 0] - y1_prob[:, 1])\n",
    "        y1_prob = np.log(y1_prob + eps)\n",
    "        \n",
    "        _,  _, _, prob = eval_hybrid(estimator2, dataset.data, dataset.targets, adjs)\n",
    "        y2_prob = prob.cpu()\n",
    "        b2 = abs(y2_prob[:, 0] - y2_prob[:, 1])\n",
    "        y2_prob = np.log(y2_prob + eps).numpy()\n",
    "        \n",
    "        b_index = []\n",
    "        \n",
    "        for i in range(len(b1)):\n",
    "            if b1[i] < 0.5:\n",
    "                b_index.append(i)\n",
    "        for i in range(len(b2)):\n",
    "            if b2[i] < 0.5:\n",
    "                b_index.append(i)\n",
    "        \n",
    "        b_index = np.unique(b_index).tolist()\n",
    "           \n",
    "        # create new labels for new additions to the labeled group\n",
    "        y_train = np.concatenate((y_train, \n",
    "                            X_unlabeled[[unlabeled_pool[x] for x in b_index]][:,-1]),\n",
    "                            axis = 0)\n",
    "        \n",
    "        X_train = np.concatenate((X_train, \n",
    "                                X_unlabeled[[unlabeled_pool[x] for x in b_index]]))\n",
    "        \n",
    "        X_xgb_train = np.concatenate((X_xgb_train, \n",
    "                                X_xgb_unlabeled[[unlabeled_pool[x] for x in b_index]]))\n",
    "        # remove newly labeled samples from unlabeled_pool\n",
    "        del_unlabeled_pool = [unlabeled_pool[x] for x in b_index]\n",
    "        unlabeled_pool = np.array(unlabeled_pool)[~np.isin(unlabeled_pool, del_unlabeled_pool)].tolist()\n",
    "        # add new elements to unlabeled_pool\n",
    "        add_counter = 0\n",
    "        num_to_add = len(b_index) \n",
    "        while add_counter != num_to_add and U :\n",
    "            add_counter += 1\n",
    "            unlabeled_pool.append(U.pop())           \n",
    "        print('len(U)',len(U))  \n",
    "\n",
    "        \n",
    "        # get new dataset for graph\n",
    "        links = links_df[links_df['phone_to'].isin(X_train[:,0])][links_df['phone_in'].isin(X_train[:,0])]\n",
    "        \n",
    "        dataset, _ , adjs = get_dataset(X_train, links.to_numpy().astype(float), X_train.shape[0])\n",
    "        \n",
    "        # fit new data\n",
    "        estimator1 = estimator1.fit(X_xgb_train[:,1:-1],y_train)\n",
    "        estimator2, _ = train_hybrid(estimator2, dataset, adjs, 'adamw', 'multilabel', 'cuda', 5e-4, 200)\n",
    "        \n",
    "        y_pred_my_ct = predict_ct(estimator1, estimator2, X_xgb_test, dataset_test, adjs_test )\n",
    "        \n",
    "        # get value evaluate\n",
    "        f1_cotrain.append(f1_score(y_test,y_pred_my_ct))\n",
    "        acc_cotrain.append(accuracy_score(y_test,y_pred_my_ct))\n",
    "\n",
    "        #Keeping track of accuracy\n",
    "        \n",
    "        prediction_test1 =estimator1.predict(X_xgb_test[:,1:-1])\n",
    "        \n",
    "        f1_xgb_test.append(f1_score(y_test,prediction_test1))\n",
    "        acc_xgb_test.append(accuracy_score(y_test,prediction_test1))\n",
    "        \n",
    "        _,  acc, f, _ = eval_hybrid(estimator2, dataset_test.data, dataset_test.targets, adjs_test)\n",
    "        acc_gnn_test.append(acc)\n",
    "        f1_gnn_test.append(f)\n",
    "    \n",
    "        _,  acc, f, _ = eval_hybrid(estimator2, dataset.data, dataset.targets, adjs)\n",
    "        acc_gnn_train.append(acc)\n",
    "        f1_gnn_train.append(f)\n",
    "        print(\"Interator {0}\".format(counter))\n",
    "        print(\"==========================================================\")\n",
    "\n",
    "    \n",
    "    return f1_cotrain, acc_cotrain, f1_xgb_test, acc_xgb_test, acc_gnn_train, f1_gnn_train, acc_gnn_test, f1_gnn_test"
   ]
  },
  {
   "cell_type": "code",
   "execution_count": null,
   "metadata": {},
   "outputs": [
    {
     "name": "stderr",
     "output_type": "stream",
     "text": [
      "<ipython-input-36-3aa7aeb8e1a8>:39: UserWarning: Boolean Series key will be reindexed to match DataFrame index.\n",
      "  links = links_df[links_df['phone_to'].isin(temp2[:,0])][links_df['phone_in'].isin(temp2[:,0])]\n"
     ]
    },
    {
     "name": "stdout",
     "output_type": "stream",
     "text": [
      "len(U) 9391\n"
     ]
    },
    {
     "name": "stderr",
     "output_type": "stream",
     "text": [
      "<ipython-input-36-3aa7aeb8e1a8>:90: UserWarning: Boolean Series key will be reindexed to match DataFrame index.\n",
      "  links = links_df[links_df['phone_to'].isin(X_train[:,0])][links_df['phone_in'].isin(X_train[:,0])]\n",
      "100%|██████████| 200/200 [01:38<00:00,  2.03it/s]\n"
     ]
    },
    {
     "name": "stdout",
     "output_type": "stream",
     "text": [
      "Interator 1\n",
      "==========================================================\n"
     ]
    },
    {
     "name": "stderr",
     "output_type": "stream",
     "text": [
      "<ipython-input-36-3aa7aeb8e1a8>:39: UserWarning: Boolean Series key will be reindexed to match DataFrame index.\n",
      "  links = links_df[links_df['phone_to'].isin(temp2[:,0])][links_df['phone_in'].isin(temp2[:,0])]\n"
     ]
    },
    {
     "name": "stdout",
     "output_type": "stream",
     "text": [
      "len(U) 9292\n"
     ]
    },
    {
     "name": "stderr",
     "output_type": "stream",
     "text": [
      "<ipython-input-36-3aa7aeb8e1a8>:90: UserWarning: Boolean Series key will be reindexed to match DataFrame index.\n",
      "  links = links_df[links_df['phone_to'].isin(X_train[:,0])][links_df['phone_in'].isin(X_train[:,0])]\n",
      "100%|██████████| 200/200 [01:43<00:00,  1.93it/s]\n"
     ]
    },
    {
     "name": "stdout",
     "output_type": "stream",
     "text": [
      "Interator 2\n",
      "==========================================================\n"
     ]
    },
    {
     "name": "stderr",
     "output_type": "stream",
     "text": [
      "<ipython-input-36-3aa7aeb8e1a8>:39: UserWarning: Boolean Series key will be reindexed to match DataFrame index.\n",
      "  links = links_df[links_df['phone_to'].isin(temp2[:,0])][links_df['phone_in'].isin(temp2[:,0])]\n"
     ]
    },
    {
     "name": "stdout",
     "output_type": "stream",
     "text": [
      "len(U) 9252\n"
     ]
    },
    {
     "name": "stderr",
     "output_type": "stream",
     "text": [
      "<ipython-input-36-3aa7aeb8e1a8>:90: UserWarning: Boolean Series key will be reindexed to match DataFrame index.\n",
      "  links = links_df[links_df['phone_to'].isin(X_train[:,0])][links_df['phone_in'].isin(X_train[:,0])]\n",
      "100%|██████████| 200/200 [01:44<00:00,  1.92it/s]\n"
     ]
    },
    {
     "name": "stdout",
     "output_type": "stream",
     "text": [
      "Interator 3\n",
      "==========================================================\n"
     ]
    },
    {
     "name": "stderr",
     "output_type": "stream",
     "text": [
      "<ipython-input-36-3aa7aeb8e1a8>:39: UserWarning: Boolean Series key will be reindexed to match DataFrame index.\n",
      "  links = links_df[links_df['phone_to'].isin(temp2[:,0])][links_df['phone_in'].isin(temp2[:,0])]\n"
     ]
    },
    {
     "name": "stdout",
     "output_type": "stream",
     "text": [
      "len(U) 9232\n"
     ]
    },
    {
     "name": "stderr",
     "output_type": "stream",
     "text": [
      "<ipython-input-36-3aa7aeb8e1a8>:90: UserWarning: Boolean Series key will be reindexed to match DataFrame index.\n",
      "  links = links_df[links_df['phone_to'].isin(X_train[:,0])][links_df['phone_in'].isin(X_train[:,0])]\n",
      "100%|██████████| 200/200 [01:53<00:00,  1.77it/s]\n"
     ]
    },
    {
     "name": "stdout",
     "output_type": "stream",
     "text": [
      "Interator 4\n",
      "==========================================================\n"
     ]
    },
    {
     "name": "stderr",
     "output_type": "stream",
     "text": [
      "<ipython-input-36-3aa7aeb8e1a8>:39: UserWarning: Boolean Series key will be reindexed to match DataFrame index.\n",
      "  links = links_df[links_df['phone_to'].isin(temp2[:,0])][links_df['phone_in'].isin(temp2[:,0])]\n"
     ]
    },
    {
     "name": "stdout",
     "output_type": "stream",
     "text": [
      "len(U) 9221\n"
     ]
    },
    {
     "name": "stderr",
     "output_type": "stream",
     "text": [
      "<ipython-input-36-3aa7aeb8e1a8>:90: UserWarning: Boolean Series key will be reindexed to match DataFrame index.\n",
      "  links = links_df[links_df['phone_to'].isin(X_train[:,0])][links_df['phone_in'].isin(X_train[:,0])]\n",
      "100%|██████████| 200/200 [01:38<00:00,  2.03it/s]\n"
     ]
    },
    {
     "name": "stdout",
     "output_type": "stream",
     "text": [
      "Interator 5\n",
      "==========================================================\n"
     ]
    },
    {
     "name": "stderr",
     "output_type": "stream",
     "text": [
      "<ipython-input-36-3aa7aeb8e1a8>:39: UserWarning: Boolean Series key will be reindexed to match DataFrame index.\n",
      "  links = links_df[links_df['phone_to'].isin(temp2[:,0])][links_df['phone_in'].isin(temp2[:,0])]\n"
     ]
    },
    {
     "name": "stdout",
     "output_type": "stream",
     "text": [
      "len(U) 9216\n"
     ]
    },
    {
     "name": "stderr",
     "output_type": "stream",
     "text": [
      "<ipython-input-36-3aa7aeb8e1a8>:90: UserWarning: Boolean Series key will be reindexed to match DataFrame index.\n",
      "  links = links_df[links_df['phone_to'].isin(X_train[:,0])][links_df['phone_in'].isin(X_train[:,0])]\n",
      "100%|██████████| 200/200 [01:43<00:00,  1.93it/s]\n"
     ]
    },
    {
     "name": "stdout",
     "output_type": "stream",
     "text": [
      "Interator 6\n",
      "==========================================================\n"
     ]
    },
    {
     "name": "stderr",
     "output_type": "stream",
     "text": [
      "<ipython-input-36-3aa7aeb8e1a8>:39: UserWarning: Boolean Series key will be reindexed to match DataFrame index.\n",
      "  links = links_df[links_df['phone_to'].isin(temp2[:,0])][links_df['phone_in'].isin(temp2[:,0])]\n"
     ]
    },
    {
     "name": "stdout",
     "output_type": "stream",
     "text": [
      "len(U) 9213\n"
     ]
    },
    {
     "name": "stderr",
     "output_type": "stream",
     "text": [
      "<ipython-input-36-3aa7aeb8e1a8>:90: UserWarning: Boolean Series key will be reindexed to match DataFrame index.\n",
      "  links = links_df[links_df['phone_to'].isin(X_train[:,0])][links_df['phone_in'].isin(X_train[:,0])]\n",
      "100%|██████████| 200/200 [01:44<00:00,  1.91it/s]\n"
     ]
    },
    {
     "name": "stdout",
     "output_type": "stream",
     "text": [
      "Interator 7\n",
      "==========================================================\n"
     ]
    },
    {
     "name": "stderr",
     "output_type": "stream",
     "text": [
      "<ipython-input-36-3aa7aeb8e1a8>:39: UserWarning: Boolean Series key will be reindexed to match DataFrame index.\n",
      "  links = links_df[links_df['phone_to'].isin(temp2[:,0])][links_df['phone_in'].isin(temp2[:,0])]\n"
     ]
    },
    {
     "name": "stdout",
     "output_type": "stream",
     "text": [
      "len(U) 9208\n"
     ]
    },
    {
     "name": "stderr",
     "output_type": "stream",
     "text": [
      "<ipython-input-36-3aa7aeb8e1a8>:90: UserWarning: Boolean Series key will be reindexed to match DataFrame index.\n",
      "  links = links_df[links_df['phone_to'].isin(X_train[:,0])][links_df['phone_in'].isin(X_train[:,0])]\n",
      "100%|██████████| 200/200 [01:31<00:00,  2.18it/s]\n"
     ]
    },
    {
     "name": "stdout",
     "output_type": "stream",
     "text": [
      "Interator 8\n",
      "==========================================================\n"
     ]
    },
    {
     "name": "stderr",
     "output_type": "stream",
     "text": [
      "<ipython-input-36-3aa7aeb8e1a8>:39: UserWarning: Boolean Series key will be reindexed to match DataFrame index.\n",
      "  links = links_df[links_df['phone_to'].isin(temp2[:,0])][links_df['phone_in'].isin(temp2[:,0])]\n"
     ]
    },
    {
     "name": "stdout",
     "output_type": "stream",
     "text": [
      "len(U) 9204\n"
     ]
    },
    {
     "name": "stderr",
     "output_type": "stream",
     "text": [
      "<ipython-input-36-3aa7aeb8e1a8>:90: UserWarning: Boolean Series key will be reindexed to match DataFrame index.\n",
      "  links = links_df[links_df['phone_to'].isin(X_train[:,0])][links_df['phone_in'].isin(X_train[:,0])]\n",
      "100%|██████████| 200/200 [01:56<00:00,  1.72it/s]\n"
     ]
    },
    {
     "name": "stdout",
     "output_type": "stream",
     "text": [
      "Interator 9\n",
      "==========================================================\n"
     ]
    },
    {
     "name": "stderr",
     "output_type": "stream",
     "text": [
      "<ipython-input-36-3aa7aeb8e1a8>:39: UserWarning: Boolean Series key will be reindexed to match DataFrame index.\n",
      "  links = links_df[links_df['phone_to'].isin(temp2[:,0])][links_df['phone_in'].isin(temp2[:,0])]\n"
     ]
    },
    {
     "name": "stdout",
     "output_type": "stream",
     "text": [
      "len(U) 9198\n"
     ]
    },
    {
     "name": "stderr",
     "output_type": "stream",
     "text": [
      "<ipython-input-36-3aa7aeb8e1a8>:90: UserWarning: Boolean Series key will be reindexed to match DataFrame index.\n",
      "  links = links_df[links_df['phone_to'].isin(X_train[:,0])][links_df['phone_in'].isin(X_train[:,0])]\n",
      "100%|██████████| 200/200 [01:50<00:00,  1.81it/s]\n"
     ]
    },
    {
     "name": "stdout",
     "output_type": "stream",
     "text": [
      "Interator 10\n",
      "==========================================================\n"
     ]
    },
    {
     "name": "stderr",
     "output_type": "stream",
     "text": [
      "<ipython-input-36-3aa7aeb8e1a8>:39: UserWarning: Boolean Series key will be reindexed to match DataFrame index.\n",
      "  links = links_df[links_df['phone_to'].isin(temp2[:,0])][links_df['phone_in'].isin(temp2[:,0])]\n"
     ]
    },
    {
     "name": "stdout",
     "output_type": "stream",
     "text": [
      "len(U) 9195\n"
     ]
    },
    {
     "name": "stderr",
     "output_type": "stream",
     "text": [
      "<ipython-input-36-3aa7aeb8e1a8>:90: UserWarning: Boolean Series key will be reindexed to match DataFrame index.\n",
      "  links = links_df[links_df['phone_to'].isin(X_train[:,0])][links_df['phone_in'].isin(X_train[:,0])]\n",
      "100%|██████████| 200/200 [01:41<00:00,  1.97it/s]\n"
     ]
    },
    {
     "name": "stdout",
     "output_type": "stream",
     "text": [
      "Interator 11\n",
      "==========================================================\n"
     ]
    },
    {
     "name": "stderr",
     "output_type": "stream",
     "text": [
      "<ipython-input-36-3aa7aeb8e1a8>:39: UserWarning: Boolean Series key will be reindexed to match DataFrame index.\n",
      "  links = links_df[links_df['phone_to'].isin(temp2[:,0])][links_df['phone_in'].isin(temp2[:,0])]\n"
     ]
    },
    {
     "name": "stdout",
     "output_type": "stream",
     "text": [
      "len(U) 9191\n"
     ]
    },
    {
     "name": "stderr",
     "output_type": "stream",
     "text": [
      "<ipython-input-36-3aa7aeb8e1a8>:90: UserWarning: Boolean Series key will be reindexed to match DataFrame index.\n",
      "  links = links_df[links_df['phone_to'].isin(X_train[:,0])][links_df['phone_in'].isin(X_train[:,0])]\n",
      "100%|██████████| 200/200 [01:44<00:00,  1.91it/s]\n"
     ]
    },
    {
     "name": "stdout",
     "output_type": "stream",
     "text": [
      "Interator 12\n",
      "==========================================================\n"
     ]
    },
    {
     "name": "stderr",
     "output_type": "stream",
     "text": [
      "<ipython-input-36-3aa7aeb8e1a8>:39: UserWarning: Boolean Series key will be reindexed to match DataFrame index.\n",
      "  links = links_df[links_df['phone_to'].isin(temp2[:,0])][links_df['phone_in'].isin(temp2[:,0])]\n"
     ]
    },
    {
     "name": "stdout",
     "output_type": "stream",
     "text": [
      "len(U) 9189\n"
     ]
    },
    {
     "name": "stderr",
     "output_type": "stream",
     "text": [
      "<ipython-input-36-3aa7aeb8e1a8>:90: UserWarning: Boolean Series key will be reindexed to match DataFrame index.\n",
      "  links = links_df[links_df['phone_to'].isin(X_train[:,0])][links_df['phone_in'].isin(X_train[:,0])]\n",
      "100%|██████████| 200/200 [01:40<00:00,  1.99it/s]\n"
     ]
    },
    {
     "name": "stdout",
     "output_type": "stream",
     "text": [
      "Interator 13\n",
      "==========================================================\n"
     ]
    },
    {
     "name": "stderr",
     "output_type": "stream",
     "text": [
      "<ipython-input-36-3aa7aeb8e1a8>:39: UserWarning: Boolean Series key will be reindexed to match DataFrame index.\n",
      "  links = links_df[links_df['phone_to'].isin(temp2[:,0])][links_df['phone_in'].isin(temp2[:,0])]\n"
     ]
    },
    {
     "name": "stdout",
     "output_type": "stream",
     "text": [
      "len(U) 9188\n"
     ]
    },
    {
     "name": "stderr",
     "output_type": "stream",
     "text": [
      "<ipython-input-36-3aa7aeb8e1a8>:90: UserWarning: Boolean Series key will be reindexed to match DataFrame index.\n",
      "  links = links_df[links_df['phone_to'].isin(X_train[:,0])][links_df['phone_in'].isin(X_train[:,0])]\n",
      "100%|██████████| 200/200 [01:40<00:00,  2.00it/s]\n"
     ]
    },
    {
     "name": "stdout",
     "output_type": "stream",
     "text": [
      "Interator 14\n",
      "==========================================================\n"
     ]
    },
    {
     "name": "stderr",
     "output_type": "stream",
     "text": [
      "<ipython-input-36-3aa7aeb8e1a8>:39: UserWarning: Boolean Series key will be reindexed to match DataFrame index.\n",
      "  links = links_df[links_df['phone_to'].isin(temp2[:,0])][links_df['phone_in'].isin(temp2[:,0])]\n"
     ]
    },
    {
     "name": "stdout",
     "output_type": "stream",
     "text": [
      "len(U) 9186\n"
     ]
    },
    {
     "name": "stderr",
     "output_type": "stream",
     "text": [
      "<ipython-input-36-3aa7aeb8e1a8>:90: UserWarning: Boolean Series key will be reindexed to match DataFrame index.\n",
      "  links = links_df[links_df['phone_to'].isin(X_train[:,0])][links_df['phone_in'].isin(X_train[:,0])]\n",
      "100%|██████████| 200/200 [01:41<00:00,  1.96it/s]\n"
     ]
    },
    {
     "name": "stdout",
     "output_type": "stream",
     "text": [
      "Interator 15\n",
      "==========================================================\n"
     ]
    },
    {
     "name": "stderr",
     "output_type": "stream",
     "text": [
      "<ipython-input-36-3aa7aeb8e1a8>:39: UserWarning: Boolean Series key will be reindexed to match DataFrame index.\n",
      "  links = links_df[links_df['phone_to'].isin(temp2[:,0])][links_df['phone_in'].isin(temp2[:,0])]\n"
     ]
    },
    {
     "name": "stdout",
     "output_type": "stream",
     "text": [
      "len(U) 9181\n"
     ]
    },
    {
     "name": "stderr",
     "output_type": "stream",
     "text": [
      "<ipython-input-36-3aa7aeb8e1a8>:90: UserWarning: Boolean Series key will be reindexed to match DataFrame index.\n",
      "  links = links_df[links_df['phone_to'].isin(X_train[:,0])][links_df['phone_in'].isin(X_train[:,0])]\n",
      "100%|██████████| 200/200 [01:40<00:00,  1.98it/s]\n"
     ]
    },
    {
     "name": "stdout",
     "output_type": "stream",
     "text": [
      "Interator 16\n",
      "==========================================================\n"
     ]
    },
    {
     "name": "stderr",
     "output_type": "stream",
     "text": [
      "<ipython-input-36-3aa7aeb8e1a8>:39: UserWarning: Boolean Series key will be reindexed to match DataFrame index.\n",
      "  links = links_df[links_df['phone_to'].isin(temp2[:,0])][links_df['phone_in'].isin(temp2[:,0])]\n"
     ]
    },
    {
     "name": "stdout",
     "output_type": "stream",
     "text": [
      "len(U) 9180\n"
     ]
    },
    {
     "name": "stderr",
     "output_type": "stream",
     "text": [
      "<ipython-input-36-3aa7aeb8e1a8>:90: UserWarning: Boolean Series key will be reindexed to match DataFrame index.\n",
      "  links = links_df[links_df['phone_to'].isin(X_train[:,0])][links_df['phone_in'].isin(X_train[:,0])]\n",
      "100%|██████████| 200/200 [01:39<00:00,  2.01it/s]\n"
     ]
    },
    {
     "name": "stdout",
     "output_type": "stream",
     "text": [
      "Interator 17\n",
      "==========================================================\n"
     ]
    },
    {
     "name": "stderr",
     "output_type": "stream",
     "text": [
      "<ipython-input-36-3aa7aeb8e1a8>:39: UserWarning: Boolean Series key will be reindexed to match DataFrame index.\n",
      "  links = links_df[links_df['phone_to'].isin(temp2[:,0])][links_df['phone_in'].isin(temp2[:,0])]\n"
     ]
    },
    {
     "name": "stdout",
     "output_type": "stream",
     "text": [
      "len(U) 9176\n"
     ]
    },
    {
     "name": "stderr",
     "output_type": "stream",
     "text": [
      "<ipython-input-36-3aa7aeb8e1a8>:90: UserWarning: Boolean Series key will be reindexed to match DataFrame index.\n",
      "  links = links_df[links_df['phone_to'].isin(X_train[:,0])][links_df['phone_in'].isin(X_train[:,0])]\n",
      "100%|██████████| 200/200 [01:40<00:00,  1.98it/s]\n"
     ]
    },
    {
     "name": "stdout",
     "output_type": "stream",
     "text": [
      "Interator 18\n",
      "==========================================================\n"
     ]
    },
    {
     "name": "stderr",
     "output_type": "stream",
     "text": [
      "<ipython-input-36-3aa7aeb8e1a8>:39: UserWarning: Boolean Series key will be reindexed to match DataFrame index.\n",
      "  links = links_df[links_df['phone_to'].isin(temp2[:,0])][links_df['phone_in'].isin(temp2[:,0])]\n"
     ]
    },
    {
     "name": "stdout",
     "output_type": "stream",
     "text": [
      "len(U) 9176\n"
     ]
    },
    {
     "name": "stderr",
     "output_type": "stream",
     "text": [
      "<ipython-input-36-3aa7aeb8e1a8>:90: UserWarning: Boolean Series key will be reindexed to match DataFrame index.\n",
      "  links = links_df[links_df['phone_to'].isin(X_train[:,0])][links_df['phone_in'].isin(X_train[:,0])]\n",
      "100%|██████████| 200/200 [01:41<00:00,  1.97it/s]\n"
     ]
    },
    {
     "name": "stdout",
     "output_type": "stream",
     "text": [
      "Interator 19\n",
      "==========================================================\n"
     ]
    },
    {
     "name": "stderr",
     "output_type": "stream",
     "text": [
      "<ipython-input-36-3aa7aeb8e1a8>:39: UserWarning: Boolean Series key will be reindexed to match DataFrame index.\n",
      "  links = links_df[links_df['phone_to'].isin(temp2[:,0])][links_df['phone_in'].isin(temp2[:,0])]\n"
     ]
    },
    {
     "name": "stdout",
     "output_type": "stream",
     "text": [
      "len(U) 9175\n"
     ]
    },
    {
     "name": "stderr",
     "output_type": "stream",
     "text": [
      "<ipython-input-36-3aa7aeb8e1a8>:90: UserWarning: Boolean Series key will be reindexed to match DataFrame index.\n",
      "  links = links_df[links_df['phone_to'].isin(X_train[:,0])][links_df['phone_in'].isin(X_train[:,0])]\n",
      "100%|██████████| 200/200 [01:42<00:00,  1.96it/s]\n"
     ]
    },
    {
     "name": "stdout",
     "output_type": "stream",
     "text": [
      "Interator 20\n",
      "==========================================================\n"
     ]
    },
    {
     "name": "stderr",
     "output_type": "stream",
     "text": [
      "<ipython-input-36-3aa7aeb8e1a8>:39: UserWarning: Boolean Series key will be reindexed to match DataFrame index.\n",
      "  links = links_df[links_df['phone_to'].isin(temp2[:,0])][links_df['phone_in'].isin(temp2[:,0])]\n"
     ]
    },
    {
     "name": "stdout",
     "output_type": "stream",
     "text": [
      "len(U) 9173\n"
     ]
    },
    {
     "name": "stderr",
     "output_type": "stream",
     "text": [
      "<ipython-input-36-3aa7aeb8e1a8>:90: UserWarning: Boolean Series key will be reindexed to match DataFrame index.\n",
      "  links = links_df[links_df['phone_to'].isin(X_train[:,0])][links_df['phone_in'].isin(X_train[:,0])]\n",
      "100%|██████████| 200/200 [01:42<00:00,  1.96it/s]\n"
     ]
    },
    {
     "name": "stdout",
     "output_type": "stream",
     "text": [
      "Interator 21\n",
      "==========================================================\n"
     ]
    },
    {
     "name": "stderr",
     "output_type": "stream",
     "text": [
      "<ipython-input-36-3aa7aeb8e1a8>:39: UserWarning: Boolean Series key will be reindexed to match DataFrame index.\n",
      "  links = links_df[links_df['phone_to'].isin(temp2[:,0])][links_df['phone_in'].isin(temp2[:,0])]\n"
     ]
    },
    {
     "name": "stdout",
     "output_type": "stream",
     "text": [
      "len(U) 9172\n"
     ]
    },
    {
     "name": "stderr",
     "output_type": "stream",
     "text": [
      "<ipython-input-36-3aa7aeb8e1a8>:90: UserWarning: Boolean Series key will be reindexed to match DataFrame index.\n",
      "  links = links_df[links_df['phone_to'].isin(X_train[:,0])][links_df['phone_in'].isin(X_train[:,0])]\n",
      "100%|██████████| 200/200 [01:41<00:00,  1.98it/s]\n"
     ]
    },
    {
     "name": "stdout",
     "output_type": "stream",
     "text": [
      "Interator 22\n",
      "==========================================================\n"
     ]
    },
    {
     "name": "stderr",
     "output_type": "stream",
     "text": [
      "<ipython-input-36-3aa7aeb8e1a8>:39: UserWarning: Boolean Series key will be reindexed to match DataFrame index.\n",
      "  links = links_df[links_df['phone_to'].isin(temp2[:,0])][links_df['phone_in'].isin(temp2[:,0])]\n"
     ]
    },
    {
     "name": "stdout",
     "output_type": "stream",
     "text": [
      "len(U) 9171\n"
     ]
    },
    {
     "name": "stderr",
     "output_type": "stream",
     "text": [
      "<ipython-input-36-3aa7aeb8e1a8>:90: UserWarning: Boolean Series key will be reindexed to match DataFrame index.\n",
      "  links = links_df[links_df['phone_to'].isin(X_train[:,0])][links_df['phone_in'].isin(X_train[:,0])]\n",
      "100%|██████████| 200/200 [01:39<00:00,  2.00it/s]\n"
     ]
    },
    {
     "name": "stdout",
     "output_type": "stream",
     "text": [
      "Interator 23\n",
      "==========================================================\n"
     ]
    },
    {
     "name": "stderr",
     "output_type": "stream",
     "text": [
      "<ipython-input-36-3aa7aeb8e1a8>:39: UserWarning: Boolean Series key will be reindexed to match DataFrame index.\n",
      "  links = links_df[links_df['phone_to'].isin(temp2[:,0])][links_df['phone_in'].isin(temp2[:,0])]\n"
     ]
    },
    {
     "name": "stdout",
     "output_type": "stream",
     "text": [
      "len(U) 9171\n"
     ]
    },
    {
     "name": "stderr",
     "output_type": "stream",
     "text": [
      "<ipython-input-36-3aa7aeb8e1a8>:90: UserWarning: Boolean Series key will be reindexed to match DataFrame index.\n",
      "  links = links_df[links_df['phone_to'].isin(X_train[:,0])][links_df['phone_in'].isin(X_train[:,0])]\n",
      "100%|██████████| 200/200 [01:41<00:00,  1.98it/s]\n"
     ]
    },
    {
     "name": "stdout",
     "output_type": "stream",
     "text": [
      "Interator 24\n",
      "==========================================================\n"
     ]
    },
    {
     "name": "stderr",
     "output_type": "stream",
     "text": [
      "<ipython-input-36-3aa7aeb8e1a8>:39: UserWarning: Boolean Series key will be reindexed to match DataFrame index.\n",
      "  links = links_df[links_df['phone_to'].isin(temp2[:,0])][links_df['phone_in'].isin(temp2[:,0])]\n"
     ]
    },
    {
     "name": "stdout",
     "output_type": "stream",
     "text": [
      "len(U) 9170\n"
     ]
    },
    {
     "name": "stderr",
     "output_type": "stream",
     "text": [
      "<ipython-input-36-3aa7aeb8e1a8>:90: UserWarning: Boolean Series key will be reindexed to match DataFrame index.\n",
      "  links = links_df[links_df['phone_to'].isin(X_train[:,0])][links_df['phone_in'].isin(X_train[:,0])]\n",
      "100%|██████████| 200/200 [01:42<00:00,  1.96it/s]\n"
     ]
    },
    {
     "name": "stdout",
     "output_type": "stream",
     "text": [
      "Interator 25\n",
      "==========================================================\n"
     ]
    },
    {
     "name": "stderr",
     "output_type": "stream",
     "text": [
      "<ipython-input-36-3aa7aeb8e1a8>:39: UserWarning: Boolean Series key will be reindexed to match DataFrame index.\n",
      "  links = links_df[links_df['phone_to'].isin(temp2[:,0])][links_df['phone_in'].isin(temp2[:,0])]\n"
     ]
    },
    {
     "name": "stdout",
     "output_type": "stream",
     "text": [
      "len(U) 9167\n"
     ]
    },
    {
     "name": "stderr",
     "output_type": "stream",
     "text": [
      "<ipython-input-36-3aa7aeb8e1a8>:90: UserWarning: Boolean Series key will be reindexed to match DataFrame index.\n",
      "  links = links_df[links_df['phone_to'].isin(X_train[:,0])][links_df['phone_in'].isin(X_train[:,0])]\n",
      "100%|██████████| 200/200 [01:37<00:00,  2.04it/s]\n"
     ]
    },
    {
     "name": "stdout",
     "output_type": "stream",
     "text": [
      "Interator 26\n",
      "==========================================================\n"
     ]
    },
    {
     "name": "stderr",
     "output_type": "stream",
     "text": [
      "<ipython-input-36-3aa7aeb8e1a8>:39: UserWarning: Boolean Series key will be reindexed to match DataFrame index.\n",
      "  links = links_df[links_df['phone_to'].isin(temp2[:,0])][links_df['phone_in'].isin(temp2[:,0])]\n"
     ]
    },
    {
     "name": "stdout",
     "output_type": "stream",
     "text": [
      "len(U) 9166\n"
     ]
    },
    {
     "name": "stderr",
     "output_type": "stream",
     "text": [
      "<ipython-input-36-3aa7aeb8e1a8>:90: UserWarning: Boolean Series key will be reindexed to match DataFrame index.\n",
      "  links = links_df[links_df['phone_to'].isin(X_train[:,0])][links_df['phone_in'].isin(X_train[:,0])]\n",
      "100%|██████████| 200/200 [01:09<00:00,  2.88it/s]\n"
     ]
    },
    {
     "name": "stdout",
     "output_type": "stream",
     "text": [
      "Interator 27\n",
      "==========================================================\n"
     ]
    },
    {
     "name": "stderr",
     "output_type": "stream",
     "text": [
      "<ipython-input-36-3aa7aeb8e1a8>:39: UserWarning: Boolean Series key will be reindexed to match DataFrame index.\n",
      "  links = links_df[links_df['phone_to'].isin(temp2[:,0])][links_df['phone_in'].isin(temp2[:,0])]\n"
     ]
    },
    {
     "name": "stdout",
     "output_type": "stream",
     "text": [
      "len(U) 9166\n"
     ]
    },
    {
     "name": "stderr",
     "output_type": "stream",
     "text": [
      "<ipython-input-36-3aa7aeb8e1a8>:90: UserWarning: Boolean Series key will be reindexed to match DataFrame index.\n",
      "  links = links_df[links_df['phone_to'].isin(X_train[:,0])][links_df['phone_in'].isin(X_train[:,0])]\n",
      "100%|██████████| 200/200 [01:06<00:00,  3.02it/s]\n"
     ]
    },
    {
     "name": "stdout",
     "output_type": "stream",
     "text": [
      "Interator 28\n",
      "==========================================================\n"
     ]
    },
    {
     "name": "stderr",
     "output_type": "stream",
     "text": [
      "<ipython-input-36-3aa7aeb8e1a8>:39: UserWarning: Boolean Series key will be reindexed to match DataFrame index.\n",
      "  links = links_df[links_df['phone_to'].isin(temp2[:,0])][links_df['phone_in'].isin(temp2[:,0])]\n"
     ]
    },
    {
     "name": "stdout",
     "output_type": "stream",
     "text": [
      "len(U) 9165\n"
     ]
    },
    {
     "name": "stderr",
     "output_type": "stream",
     "text": [
      "<ipython-input-36-3aa7aeb8e1a8>:90: UserWarning: Boolean Series key will be reindexed to match DataFrame index.\n",
      "  links = links_df[links_df['phone_to'].isin(X_train[:,0])][links_df['phone_in'].isin(X_train[:,0])]\n",
      "100%|██████████| 200/200 [01:26<00:00,  2.32it/s]\n"
     ]
    },
    {
     "name": "stdout",
     "output_type": "stream",
     "text": [
      "Interator 29\n",
      "==========================================================\n"
     ]
    },
    {
     "name": "stderr",
     "output_type": "stream",
     "text": [
      "<ipython-input-36-3aa7aeb8e1a8>:39: UserWarning: Boolean Series key will be reindexed to match DataFrame index.\n",
      "  links = links_df[links_df['phone_to'].isin(temp2[:,0])][links_df['phone_in'].isin(temp2[:,0])]\n"
     ]
    },
    {
     "name": "stdout",
     "output_type": "stream",
     "text": [
      "len(U) 9163\n"
     ]
    },
    {
     "name": "stderr",
     "output_type": "stream",
     "text": [
      "<ipython-input-36-3aa7aeb8e1a8>:90: UserWarning: Boolean Series key will be reindexed to match DataFrame index.\n",
      "  links = links_df[links_df['phone_to'].isin(X_train[:,0])][links_df['phone_in'].isin(X_train[:,0])]\n",
      "100%|██████████| 200/200 [01:24<00:00,  2.36it/s]\n"
     ]
    },
    {
     "name": "stdout",
     "output_type": "stream",
     "text": [
      "Interator 30\n",
      "==========================================================\n"
     ]
    }
   ],
   "source": [
    "f1_cotrain, acc_cotrain, f1_xgb_test, acc_xgb_test, acc_gnn_train, f1_gnn_train, acc_gnn_test, f1_gnn_test = co2al(XGB1, model, X_train, X_unlabeled, X_xgb_train, X_xgb_unlabeled, y_train, 30, 30, 1000, 30 )"
   ]
  },
  {
   "cell_type": "code",
   "execution_count": null,
   "metadata": {},
   "outputs": [
    {
     "data": {
      "image/png": "[encoded data removed]",
      "text/plain": [
       "<Figure size 720x720 with 1 Axes>"
      ]
     },
     "metadata": {
      "needs_background": "light"
     },
     "output_type": "display_data"
    }
   ],
   "source": [
    "import matplotlib.pyplot as plt\n",
    "from matplotlib.pyplot import figure\n",
    "import matplotlib.patches as mpatches\n",
    "\n",
    "\n",
    "indexing = range(len(f1_cotrain))\n",
    "# hnd1, = plt.plot(indexing,f1_cotrain,'r',label='f1_cotrain')\n",
    "hnd1, = plt.plot(indexing,acc_cotrain,'g',label='acc_cotrain')\n",
    "# hnd2, = plt.plot(indexing,f1_xgb_test,'b',label='f1_xgb_test')\n",
    "hnd2, = plt.plot(indexing,acc_xgb_test,'c',label='acc_xgb_test')\n",
    "hnd2, = plt.plot(indexing,acc_gnn_train,'k',label='acc_gnn_train')\n",
    "# hnd2, = plt.plot(indexing,f1_gnn_train,'m',label='f1_gnn_train')\n",
    "hnd2, = plt.plot(indexing,acc_gnn_test,'y',label='acc_gnn_test')\n",
    "# hnd2, = plt.plot(indexing,f1_gnn_test,'w',label='f1_gnn_test')\n",
    "# print(num_n_new,num_p_new)\n",
    "\n",
    "plt.legend(loc='best')\n",
    "plt.ylabel('F1')\n",
    "plt.xlabel('Co-Training with XGB and Graph')\n",
    "plt.title('Dropout')\n",
    "plt.rcParams[\"figure.figsize\"] = (10,10)\n",
    "plt.show()"
   ]
  },
  {
   "cell_type": "code",
   "execution_count": null,
   "metadata": {},
   "outputs": [],
   "source": []
  }
 ],
 "metadata": {
  "kernelspec": {
   "display_name": "Python 3.8.8 ('base')",
   "language": "python",
   "name": "python3"
  },
  "language_info": {
   "codemirror_mode": {
    "name": "ipython",
    "version": 3
   },
   "file_extension": ".py",
   "mimetype": "text/x-python",
   "name": "python",
   "nbconvert_exporter": "python",
   "pygments_lexer": "ipython3",
   "version": "3.8.8"
  },
  "orig_nbformat": 4,
  "vscode": {
   "interpreter": {
    "hash": "0250446e861f3e3bb58ab720aa611cbf2b8f13eae5d18b0ae3b7b996675fb1df"
   }
  }
 },
 "nbformat": 4,
 "nbformat_minor": 2
}
