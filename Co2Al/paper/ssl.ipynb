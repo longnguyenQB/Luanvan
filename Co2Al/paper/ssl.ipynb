{
 "cells": [
  {
   "cell_type": "code",
   "execution_count": 1,
   "metadata": {},
   "outputs": [],
   "source": [
    "from importlib import reload\n",
    "import torch\n",
    "from torch.nn import functional as F\n",
    "import pandas as pd\n",
    "from tqdm.auto import tqdm\n",
    "from sklearn.metrics import classification_report\n",
    "import matplotlib.pyplot as plt\n",
    "from sklearn.preprocessing import PolynomialFeatures\n",
    "from sklearn.metrics import confusion_matrix\n",
    "from sklearn.model_selection import train_test_split\n",
    "import xgboost as xgb\n",
    "from sklearn.metrics import confusion_matrix, classification_report, f1_score, accuracy_score\n",
    "import numpy as np\n",
    "#Import graph based\n",
    "from graph_based.utils.loader import  get_dataset\n",
    "from graph_based.models.gnn.layers import GraphConvolution\n",
    "from graph_based.models import resnet\n",
    "from graph_based.models.hyper_models import HybridGNN\n",
    "from graph_based.train import train_hybrid\n",
    "from graph_based.utils.evaluate import eval_normal, eval_hybrid\n",
    "#Import SSL\n",
    "from SSL_method import ssl\n",
    "import matplotlib.pyplot as plt\n",
    "from matplotlib.pyplot import figure\n",
    "import matplotlib.patches as mpatches"
   ]
  },
  {
   "cell_type": "code",
   "execution_count": 2,
   "metadata": {},
   "outputs": [],
   "source": [
    "def get_data_graph(nodes,links):\n",
    "    dataset, _ , adj = get_dataset(nodes, links, nodes.shape[0]) \n",
    "    return dataset, adj"
   ]
  },
  {
   "cell_type": "code",
   "execution_count": 3,
   "metadata": {},
   "outputs": [],
   "source": [
    "features = pd.read_csv(\"./graph_based/dataset/node_2label_balance.csv\").to_numpy()\n",
    "links = pd.read_csv(\"./graph_based/dataset/edge_2label_balance.csv\").to_numpy().astype(float)\n",
    "links_df = pd.read_csv(\"./graph_based/dataset/edge_2label_balance.csv\")\n",
    "train_xgb = pd.read_csv(\"./graph_based/dataset/train.csv\").to_numpy()"
   ]
  },
  {
   "cell_type": "code",
   "execution_count": 4,
   "metadata": {},
   "outputs": [],
   "source": [
    "X_pool, X_gnn_test, X_xgb_pool, X_xgb_test, y_pool, y_test = train_test_split(features, train_xgb, features[:,-1],test_size=0.2, random_state= 42)\n",
    "X_gnn_train, X_gnn_unlabeled, X_xgb_train, X_xgb_unlabeled, y_train, y_unlabel = train_test_split(X_pool, X_xgb_pool, y_pool, test_size=0.5, random_state= 42)\n"
   ]
  },
  {
   "cell_type": "code",
   "execution_count": 5,
   "metadata": {},
   "outputs": [],
   "source": [
    "# dataset_train, nrm_adj_train, adjs_train = get_dataset(X_gnn_train, links, X_gnn_train.shape[0]) \n",
    "# dataset_test, nrm_adj_test, adjs_test = get_dataset(X_gnn_test, links, X_gnn_test.shape[0]) \n",
    "dataset_train, adjs_train = get_data_graph(X_gnn_train, links)\n",
    "dataset_val, adj_val = get_data_graph(X_gnn_test, links)\n"
   ]
  },
  {
   "cell_type": "code",
   "execution_count": 6,
   "metadata": {},
   "outputs": [
    {
     "name": "stderr",
     "output_type": "stream",
     "text": [
      "c:\\Users\\GroooDev\\anaconda3\\lib\\site-packages\\torch\\nn\\modules\\lazy.py:178: UserWarning: Lazy modules are a new feature under heavy development so changes to the API or functionality can happen at any moment.\n",
      "  warnings.warn('Lazy modules are a new feature under heavy development '\n"
     ]
    }
   ],
   "source": [
    "nets = [resnet.ResNet(GraphConvolution,\n",
    "             in_features=features.shape[1] - 2,\n",
    "             cfg=[16, 16, 32, 16],\n",
    "             n_residual_units=[2, 2, 2],\n",
    "             hidden_layers_fc= [16,8],\n",
    "             num_classes=None) for _ in range(features.shape[1] - 2)]\n",
    "model_graph = HybridGNN(2, 'cuda', *nets).cuda()"
   ]
  },
  {
   "cell_type": "code",
   "execution_count": 7,
   "metadata": {},
   "outputs": [
    {
     "name": "stdout",
     "output_type": "stream",
     "text": [
      "0.7581098818676167\n"
     ]
    }
   ],
   "source": [
    "model_graph.load_state_dict(torch.load(\"mode_new.pt\", map_location='cpu'))\n",
    "pred, f1_resnet_test, acc_resnet_test, prob = eval_hybrid(model_graph, dataset_val.data, dataset_val.targets, adj_val)\n",
    "print(acc_resnet_test)"
   ]
  },
  {
   "cell_type": "code",
   "execution_count": 8,
   "metadata": {},
   "outputs": [
    {
     "name": "stdout",
     "output_type": "stream",
     "text": [
      "[0]\tvalidation_0-logloss:0.69004\tvalidation_1-logloss:0.69002\n",
      "[1]\tvalidation_0-logloss:0.68693\tvalidation_1-logloss:0.68686\n",
      "[2]\tvalidation_0-logloss:0.68381\tvalidation_1-logloss:0.68371\n",
      "[3]\tvalidation_0-logloss:0.68081\tvalidation_1-logloss:0.68068\n",
      "[4]\tvalidation_0-logloss:0.67797\tvalidation_1-logloss:0.67782\n",
      "[5]\tvalidation_0-logloss:0.67502\tvalidation_1-logloss:0.67483\n",
      "[6]\tvalidation_0-logloss:0.67202\tvalidation_1-logloss:0.67183\n",
      "[7]\tvalidation_0-logloss:0.66905\tvalidation_1-logloss:0.66885\n",
      "[8]\tvalidation_0-logloss:0.66629\tvalidation_1-logloss:0.66606\n",
      "[9]\tvalidation_0-logloss:0.66346\tvalidation_1-logloss:0.66322\n",
      "[10]\tvalidation_0-logloss:0.66056\tvalidation_1-logloss:0.66031\n",
      "[11]\tvalidation_0-logloss:0.65790\tvalidation_1-logloss:0.65761\n",
      "[12]\tvalidation_0-logloss:0.65512\tvalidation_1-logloss:0.65481\n",
      "[13]\tvalidation_0-logloss:0.65250\tvalidation_1-logloss:0.65218\n",
      "[14]\tvalidation_0-logloss:0.64975\tvalidation_1-logloss:0.64942\n",
      "[15]\tvalidation_0-logloss:0.64733\tvalidation_1-logloss:0.64697\n",
      "[16]\tvalidation_0-logloss:0.64465\tvalidation_1-logloss:0.64429\n",
      "[17]\tvalidation_0-logloss:0.64204\tvalidation_1-logloss:0.64166\n",
      "[18]\tvalidation_0-logloss:0.63940\tvalidation_1-logloss:0.63899\n",
      "[19]\tvalidation_0-logloss:0.63677\tvalidation_1-logloss:0.63636\n",
      "[20]\tvalidation_0-logloss:0.63442\tvalidation_1-logloss:0.63397\n",
      "[21]\tvalidation_0-logloss:0.63196\tvalidation_1-logloss:0.63149\n",
      "[22]\tvalidation_0-logloss:0.62941\tvalidation_1-logloss:0.62894\n",
      "[23]\tvalidation_0-logloss:0.62685\tvalidation_1-logloss:0.62637\n",
      "[24]\tvalidation_0-logloss:0.62438\tvalidation_1-logloss:0.62389\n",
      "[25]\tvalidation_0-logloss:0.62202\tvalidation_1-logloss:0.62151\n",
      "[26]\tvalidation_0-logloss:0.61952\tvalidation_1-logloss:0.61900\n",
      "[27]\tvalidation_0-logloss:0.61708\tvalidation_1-logloss:0.61656\n",
      "[28]\tvalidation_0-logloss:0.61469\tvalidation_1-logloss:0.61414\n",
      "[29]\tvalidation_0-logloss:0.61230\tvalidation_1-logloss:0.61173\n",
      "[30]\tvalidation_0-logloss:0.60989\tvalidation_1-logloss:0.60931\n",
      "[31]\tvalidation_0-logloss:0.60750\tvalidation_1-logloss:0.60689\n",
      "[32]\tvalidation_0-logloss:0.60518\tvalidation_1-logloss:0.60457\n",
      "[33]\tvalidation_0-logloss:0.60299\tvalidation_1-logloss:0.60235\n",
      "[34]\tvalidation_0-logloss:0.60065\tvalidation_1-logloss:0.60000\n",
      "[35]\tvalidation_0-logloss:0.59839\tvalidation_1-logloss:0.59774\n",
      "[36]\tvalidation_0-logloss:0.59635\tvalidation_1-logloss:0.59569\n",
      "[37]\tvalidation_0-logloss:0.59420\tvalidation_1-logloss:0.59352\n",
      "[38]\tvalidation_0-logloss:0.59197\tvalidation_1-logloss:0.59127\n",
      "[39]\tvalidation_0-logloss:0.58969\tvalidation_1-logloss:0.58899\n",
      "[40]\tvalidation_0-logloss:0.58806\tvalidation_1-logloss:0.58737\n",
      "[41]\tvalidation_0-logloss:0.58599\tvalidation_1-logloss:0.58527\n",
      "[42]\tvalidation_0-logloss:0.58381\tvalidation_1-logloss:0.58307\n",
      "[43]\tvalidation_0-logloss:0.58167\tvalidation_1-logloss:0.58093\n",
      "[44]\tvalidation_0-logloss:0.57966\tvalidation_1-logloss:0.57889\n",
      "[45]\tvalidation_0-logloss:0.57749\tvalidation_1-logloss:0.57670\n",
      "[46]\tvalidation_0-logloss:0.57534\tvalidation_1-logloss:0.57452\n",
      "[47]\tvalidation_0-logloss:0.57338\tvalidation_1-logloss:0.57256\n",
      "[48]\tvalidation_0-logloss:0.57144\tvalidation_1-logloss:0.57060\n",
      "[49]\tvalidation_0-logloss:0.56946\tvalidation_1-logloss:0.56860\n",
      "[50]\tvalidation_0-logloss:0.56740\tvalidation_1-logloss:0.56654\n",
      "[51]\tvalidation_0-logloss:0.56541\tvalidation_1-logloss:0.56455\n",
      "[52]\tvalidation_0-logloss:0.56340\tvalidation_1-logloss:0.56253\n",
      "[53]\tvalidation_0-logloss:0.56141\tvalidation_1-logloss:0.56053\n",
      "[54]\tvalidation_0-logloss:0.55964\tvalidation_1-logloss:0.55875\n",
      "[55]\tvalidation_0-logloss:0.55769\tvalidation_1-logloss:0.55679\n",
      "[56]\tvalidation_0-logloss:0.55572\tvalidation_1-logloss:0.55481\n",
      "[57]\tvalidation_0-logloss:0.55375\tvalidation_1-logloss:0.55282\n",
      "[58]\tvalidation_0-logloss:0.55197\tvalidation_1-logloss:0.55102\n",
      "[59]\tvalidation_0-logloss:0.55006\tvalidation_1-logloss:0.54910\n",
      "[60]\tvalidation_0-logloss:0.54816\tvalidation_1-logloss:0.54718\n",
      "[61]\tvalidation_0-logloss:0.54631\tvalidation_1-logloss:0.54532\n",
      "[62]\tvalidation_0-logloss:0.54441\tvalidation_1-logloss:0.54341\n",
      "[63]\tvalidation_0-logloss:0.54259\tvalidation_1-logloss:0.54159\n",
      "[64]\tvalidation_0-logloss:0.54078\tvalidation_1-logloss:0.53977\n",
      "[65]\tvalidation_0-logloss:0.53896\tvalidation_1-logloss:0.53795\n",
      "[66]\tvalidation_0-logloss:0.53732\tvalidation_1-logloss:0.53631\n",
      "[67]\tvalidation_0-logloss:0.53564\tvalidation_1-logloss:0.53462\n",
      "[68]\tvalidation_0-logloss:0.53384\tvalidation_1-logloss:0.53280\n",
      "[69]\tvalidation_0-logloss:0.53206\tvalidation_1-logloss:0.53101\n",
      "[70]\tvalidation_0-logloss:0.53032\tvalidation_1-logloss:0.52926\n",
      "[71]\tvalidation_0-logloss:0.52854\tvalidation_1-logloss:0.52748\n",
      "[72]\tvalidation_0-logloss:0.52692\tvalidation_1-logloss:0.52586\n",
      "[73]\tvalidation_0-logloss:0.52530\tvalidation_1-logloss:0.52423\n",
      "[74]\tvalidation_0-logloss:0.52370\tvalidation_1-logloss:0.52261\n",
      "[75]\tvalidation_0-logloss:0.52202\tvalidation_1-logloss:0.52093\n",
      "[76]\tvalidation_0-logloss:0.52036\tvalidation_1-logloss:0.51926\n",
      "[77]\tvalidation_0-logloss:0.51873\tvalidation_1-logloss:0.51762\n",
      "[78]\tvalidation_0-logloss:0.51710\tvalidation_1-logloss:0.51599\n",
      "[79]\tvalidation_0-logloss:0.51549\tvalidation_1-logloss:0.51438\n",
      "[80]\tvalidation_0-logloss:0.51388\tvalidation_1-logloss:0.51276\n",
      "[81]\tvalidation_0-logloss:0.51226\tvalidation_1-logloss:0.51113\n",
      "[82]\tvalidation_0-logloss:0.51065\tvalidation_1-logloss:0.50950\n",
      "[83]\tvalidation_0-logloss:0.50904\tvalidation_1-logloss:0.50787\n",
      "[84]\tvalidation_0-logloss:0.50747\tvalidation_1-logloss:0.50630\n",
      "[85]\tvalidation_0-logloss:0.50599\tvalidation_1-logloss:0.50482\n",
      "[86]\tvalidation_0-logloss:0.50446\tvalidation_1-logloss:0.50329\n",
      "[87]\tvalidation_0-logloss:0.50291\tvalidation_1-logloss:0.50172\n",
      "[88]\tvalidation_0-logloss:0.50136\tvalidation_1-logloss:0.50017\n",
      "[89]\tvalidation_0-logloss:0.49981\tvalidation_1-logloss:0.49862\n",
      "[90]\tvalidation_0-logloss:0.49829\tvalidation_1-logloss:0.49708\n",
      "[91]\tvalidation_0-logloss:0.49679\tvalidation_1-logloss:0.49556\n",
      "[92]\tvalidation_0-logloss:0.49530\tvalidation_1-logloss:0.49406\n",
      "[93]\tvalidation_0-logloss:0.49381\tvalidation_1-logloss:0.49256\n",
      "[94]\tvalidation_0-logloss:0.49236\tvalidation_1-logloss:0.49109\n",
      "[95]\tvalidation_0-logloss:0.49092\tvalidation_1-logloss:0.48964\n",
      "[96]\tvalidation_0-logloss:0.48957\tvalidation_1-logloss:0.48827\n",
      "[97]\tvalidation_0-logloss:0.48815\tvalidation_1-logloss:0.48685\n",
      "[98]\tvalidation_0-logloss:0.48673\tvalidation_1-logloss:0.48541\n",
      "[99]\tvalidation_0-logloss:0.48534\tvalidation_1-logloss:0.48401\n",
      "[100]\tvalidation_0-logloss:0.48401\tvalidation_1-logloss:0.48268\n",
      "[101]\tvalidation_0-logloss:0.48262\tvalidation_1-logloss:0.48128\n",
      "[102]\tvalidation_0-logloss:0.48127\tvalidation_1-logloss:0.47992\n",
      "[103]\tvalidation_0-logloss:0.47991\tvalidation_1-logloss:0.47854\n",
      "[104]\tvalidation_0-logloss:0.47853\tvalidation_1-logloss:0.47717\n",
      "[105]\tvalidation_0-logloss:0.47718\tvalidation_1-logloss:0.47581\n",
      "[106]\tvalidation_0-logloss:0.47583\tvalidation_1-logloss:0.47446\n",
      "[107]\tvalidation_0-logloss:0.47446\tvalidation_1-logloss:0.47310\n",
      "[108]\tvalidation_0-logloss:0.47310\tvalidation_1-logloss:0.47173\n",
      "[109]\tvalidation_0-logloss:0.47192\tvalidation_1-logloss:0.47054\n",
      "[110]\tvalidation_0-logloss:0.47062\tvalidation_1-logloss:0.46923\n",
      "[111]\tvalidation_0-logloss:0.46939\tvalidation_1-logloss:0.46797\n",
      "[112]\tvalidation_0-logloss:0.46808\tvalidation_1-logloss:0.46666\n",
      "[113]\tvalidation_0-logloss:0.46686\tvalidation_1-logloss:0.46543\n",
      "[114]\tvalidation_0-logloss:0.46558\tvalidation_1-logloss:0.46416\n",
      "[115]\tvalidation_0-logloss:0.46437\tvalidation_1-logloss:0.46294\n",
      "[116]\tvalidation_0-logloss:0.46309\tvalidation_1-logloss:0.46167\n",
      "[117]\tvalidation_0-logloss:0.46181\tvalidation_1-logloss:0.46038\n",
      "[118]\tvalidation_0-logloss:0.46061\tvalidation_1-logloss:0.45919\n",
      "[119]\tvalidation_0-logloss:0.45937\tvalidation_1-logloss:0.45794\n",
      "[120]\tvalidation_0-logloss:0.45823\tvalidation_1-logloss:0.45680\n",
      "[121]\tvalidation_0-logloss:0.45702\tvalidation_1-logloss:0.45558\n",
      "[122]\tvalidation_0-logloss:0.45582\tvalidation_1-logloss:0.45437\n",
      "[123]\tvalidation_0-logloss:0.45460\tvalidation_1-logloss:0.45316\n",
      "[124]\tvalidation_0-logloss:0.45340\tvalidation_1-logloss:0.45197\n",
      "[125]\tvalidation_0-logloss:0.45222\tvalidation_1-logloss:0.45079\n",
      "[126]\tvalidation_0-logloss:0.45105\tvalidation_1-logloss:0.44962\n",
      "[127]\tvalidation_0-logloss:0.44994\tvalidation_1-logloss:0.44849\n",
      "[128]\tvalidation_0-logloss:0.44879\tvalidation_1-logloss:0.44734\n",
      "[129]\tvalidation_0-logloss:0.44763\tvalidation_1-logloss:0.44619\n",
      "[130]\tvalidation_0-logloss:0.44648\tvalidation_1-logloss:0.44506\n",
      "[131]\tvalidation_0-logloss:0.44534\tvalidation_1-logloss:0.44391\n",
      "[132]\tvalidation_0-logloss:0.44418\tvalidation_1-logloss:0.44274\n",
      "[133]\tvalidation_0-logloss:0.44307\tvalidation_1-logloss:0.44163\n",
      "[134]\tvalidation_0-logloss:0.44195\tvalidation_1-logloss:0.44050\n",
      "[135]\tvalidation_0-logloss:0.44084\tvalidation_1-logloss:0.43940\n",
      "[136]\tvalidation_0-logloss:0.43978\tvalidation_1-logloss:0.43834\n",
      "[137]\tvalidation_0-logloss:0.43871\tvalidation_1-logloss:0.43726\n",
      "[138]\tvalidation_0-logloss:0.43761\tvalidation_1-logloss:0.43616\n",
      "[139]\tvalidation_0-logloss:0.43652\tvalidation_1-logloss:0.43506\n",
      "[140]\tvalidation_0-logloss:0.43551\tvalidation_1-logloss:0.43406\n",
      "[141]\tvalidation_0-logloss:0.43443\tvalidation_1-logloss:0.43298\n",
      "[142]\tvalidation_0-logloss:0.43341\tvalidation_1-logloss:0.43196\n",
      "[143]\tvalidation_0-logloss:0.43238\tvalidation_1-logloss:0.43093\n",
      "[144]\tvalidation_0-logloss:0.43132\tvalidation_1-logloss:0.42985\n",
      "[145]\tvalidation_0-logloss:0.43028\tvalidation_1-logloss:0.42880\n",
      "[146]\tvalidation_0-logloss:0.42928\tvalidation_1-logloss:0.42781\n",
      "[147]\tvalidation_0-logloss:0.42824\tvalidation_1-logloss:0.42678\n",
      "[148]\tvalidation_0-logloss:0.42724\tvalidation_1-logloss:0.42578\n",
      "[149]\tvalidation_0-logloss:0.42626\tvalidation_1-logloss:0.42478\n",
      "[150]\tvalidation_0-logloss:0.42524\tvalidation_1-logloss:0.42378\n",
      "[151]\tvalidation_0-logloss:0.42422\tvalidation_1-logloss:0.42275\n",
      "[152]\tvalidation_0-logloss:0.42322\tvalidation_1-logloss:0.42176\n",
      "[153]\tvalidation_0-logloss:0.42228\tvalidation_1-logloss:0.42083\n",
      "[154]\tvalidation_0-logloss:0.42130\tvalidation_1-logloss:0.41984\n",
      "[155]\tvalidation_0-logloss:0.42043\tvalidation_1-logloss:0.41897\n",
      "[156]\tvalidation_0-logloss:0.41946\tvalidation_1-logloss:0.41800\n",
      "[157]\tvalidation_0-logloss:0.41860\tvalidation_1-logloss:0.41713\n",
      "[158]\tvalidation_0-logloss:0.41770\tvalidation_1-logloss:0.41623\n",
      "[159]\tvalidation_0-logloss:0.41675\tvalidation_1-logloss:0.41528\n",
      "[160]\tvalidation_0-logloss:0.41579\tvalidation_1-logloss:0.41432\n",
      "[161]\tvalidation_0-logloss:0.41486\tvalidation_1-logloss:0.41341\n",
      "[162]\tvalidation_0-logloss:0.41394\tvalidation_1-logloss:0.41249\n",
      "[163]\tvalidation_0-logloss:0.41312\tvalidation_1-logloss:0.41166\n",
      "[164]\tvalidation_0-logloss:0.41219\tvalidation_1-logloss:0.41074\n",
      "[165]\tvalidation_0-logloss:0.41129\tvalidation_1-logloss:0.40983\n",
      "[166]\tvalidation_0-logloss:0.41037\tvalidation_1-logloss:0.40892\n",
      "[167]\tvalidation_0-logloss:0.40945\tvalidation_1-logloss:0.40800\n",
      "[168]\tvalidation_0-logloss:0.40858\tvalidation_1-logloss:0.40712\n",
      "[169]\tvalidation_0-logloss:0.40768\tvalidation_1-logloss:0.40623\n",
      "[170]\tvalidation_0-logloss:0.40678\tvalidation_1-logloss:0.40534\n",
      "[171]\tvalidation_0-logloss:0.40589\tvalidation_1-logloss:0.40445\n",
      "[172]\tvalidation_0-logloss:0.40503\tvalidation_1-logloss:0.40361\n",
      "[173]\tvalidation_0-logloss:0.40414\tvalidation_1-logloss:0.40271\n",
      "[174]\tvalidation_0-logloss:0.40329\tvalidation_1-logloss:0.40185\n",
      "[175]\tvalidation_0-logloss:0.40242\tvalidation_1-logloss:0.40100\n",
      "[176]\tvalidation_0-logloss:0.40154\tvalidation_1-logloss:0.40013\n",
      "[177]\tvalidation_0-logloss:0.40069\tvalidation_1-logloss:0.39926\n",
      "[178]\tvalidation_0-logloss:0.39984\tvalidation_1-logloss:0.39842\n",
      "[179]\tvalidation_0-logloss:0.39902\tvalidation_1-logloss:0.39759\n",
      "[180]\tvalidation_0-logloss:0.39819\tvalidation_1-logloss:0.39675\n",
      "[181]\tvalidation_0-logloss:0.39746\tvalidation_1-logloss:0.39601\n",
      "[182]\tvalidation_0-logloss:0.39662\tvalidation_1-logloss:0.39517\n",
      "[183]\tvalidation_0-logloss:0.39580\tvalidation_1-logloss:0.39435\n",
      "[184]\tvalidation_0-logloss:0.39508\tvalidation_1-logloss:0.39362\n",
      "[185]\tvalidation_0-logloss:0.39434\tvalidation_1-logloss:0.39291\n",
      "[186]\tvalidation_0-logloss:0.39359\tvalidation_1-logloss:0.39215\n",
      "[187]\tvalidation_0-logloss:0.39276\tvalidation_1-logloss:0.39134\n",
      "[188]\tvalidation_0-logloss:0.39199\tvalidation_1-logloss:0.39057\n",
      "[189]\tvalidation_0-logloss:0.39121\tvalidation_1-logloss:0.38979\n",
      "[190]\tvalidation_0-logloss:0.39048\tvalidation_1-logloss:0.38904\n",
      "[191]\tvalidation_0-logloss:0.38971\tvalidation_1-logloss:0.38827\n",
      "[192]\tvalidation_0-logloss:0.38893\tvalidation_1-logloss:0.38749\n",
      "[193]\tvalidation_0-logloss:0.38817\tvalidation_1-logloss:0.38674\n",
      "[194]\tvalidation_0-logloss:0.38739\tvalidation_1-logloss:0.38598\n",
      "[195]\tvalidation_0-logloss:0.38664\tvalidation_1-logloss:0.38522\n",
      "[196]\tvalidation_0-logloss:0.38587\tvalidation_1-logloss:0.38446\n",
      "[197]\tvalidation_0-logloss:0.38513\tvalidation_1-logloss:0.38373\n",
      "[198]\tvalidation_0-logloss:0.38438\tvalidation_1-logloss:0.38298\n",
      "[199]\tvalidation_0-logloss:0.38364\tvalidation_1-logloss:0.38226\n",
      "[200]\tvalidation_0-logloss:0.38295\tvalidation_1-logloss:0.38157\n",
      "[201]\tvalidation_0-logloss:0.38222\tvalidation_1-logloss:0.38084\n",
      "[202]\tvalidation_0-logloss:0.38148\tvalidation_1-logloss:0.38010\n",
      "[203]\tvalidation_0-logloss:0.38076\tvalidation_1-logloss:0.37938\n",
      "[204]\tvalidation_0-logloss:0.38002\tvalidation_1-logloss:0.37864\n",
      "[205]\tvalidation_0-logloss:0.37931\tvalidation_1-logloss:0.37794\n",
      "[206]\tvalidation_0-logloss:0.37861\tvalidation_1-logloss:0.37724\n",
      "[207]\tvalidation_0-logloss:0.37789\tvalidation_1-logloss:0.37654\n",
      "[208]\tvalidation_0-logloss:0.37718\tvalidation_1-logloss:0.37583\n",
      "[209]\tvalidation_0-logloss:0.37650\tvalidation_1-logloss:0.37515\n",
      "[210]\tvalidation_0-logloss:0.37579\tvalidation_1-logloss:0.37445\n",
      "[211]\tvalidation_0-logloss:0.37512\tvalidation_1-logloss:0.37378\n",
      "[212]\tvalidation_0-logloss:0.37443\tvalidation_1-logloss:0.37310\n",
      "[213]\tvalidation_0-logloss:0.37383\tvalidation_1-logloss:0.37249\n",
      "[214]\tvalidation_0-logloss:0.37315\tvalidation_1-logloss:0.37182\n",
      "[215]\tvalidation_0-logloss:0.37252\tvalidation_1-logloss:0.37120\n",
      "[216]\tvalidation_0-logloss:0.37184\tvalidation_1-logloss:0.37053\n",
      "[217]\tvalidation_0-logloss:0.37119\tvalidation_1-logloss:0.36990\n",
      "[218]\tvalidation_0-logloss:0.37050\tvalidation_1-logloss:0.36921\n",
      "[219]\tvalidation_0-logloss:0.36989\tvalidation_1-logloss:0.36861\n",
      "[220]\tvalidation_0-logloss:0.36927\tvalidation_1-logloss:0.36798\n",
      "[221]\tvalidation_0-logloss:0.36863\tvalidation_1-logloss:0.36734\n",
      "[222]\tvalidation_0-logloss:0.36797\tvalidation_1-logloss:0.36668\n",
      "[223]\tvalidation_0-logloss:0.36735\tvalidation_1-logloss:0.36607\n",
      "[224]\tvalidation_0-logloss:0.36667\tvalidation_1-logloss:0.36540\n",
      "[225]\tvalidation_0-logloss:0.36607\tvalidation_1-logloss:0.36479\n",
      "[226]\tvalidation_0-logloss:0.36544\tvalidation_1-logloss:0.36415\n",
      "[227]\tvalidation_0-logloss:0.36480\tvalidation_1-logloss:0.36353\n",
      "[228]\tvalidation_0-logloss:0.36418\tvalidation_1-logloss:0.36291\n",
      "[229]\tvalidation_0-logloss:0.36364\tvalidation_1-logloss:0.36236\n",
      "[230]\tvalidation_0-logloss:0.36304\tvalidation_1-logloss:0.36178\n",
      "[231]\tvalidation_0-logloss:0.36242\tvalidation_1-logloss:0.36117\n",
      "[232]\tvalidation_0-logloss:0.36186\tvalidation_1-logloss:0.36061\n",
      "[233]\tvalidation_0-logloss:0.36125\tvalidation_1-logloss:0.36001\n",
      "[234]\tvalidation_0-logloss:0.36065\tvalidation_1-logloss:0.35941\n",
      "[235]\tvalidation_0-logloss:0.36006\tvalidation_1-logloss:0.35883\n",
      "[236]\tvalidation_0-logloss:0.35946\tvalidation_1-logloss:0.35823\n",
      "[237]\tvalidation_0-logloss:0.35893\tvalidation_1-logloss:0.35770\n",
      "[238]\tvalidation_0-logloss:0.35835\tvalidation_1-logloss:0.35712\n",
      "[239]\tvalidation_0-logloss:0.35774\tvalidation_1-logloss:0.35653\n",
      "[240]\tvalidation_0-logloss:0.35716\tvalidation_1-logloss:0.35595\n",
      "[241]\tvalidation_0-logloss:0.35662\tvalidation_1-logloss:0.35541\n",
      "[242]\tvalidation_0-logloss:0.35606\tvalidation_1-logloss:0.35486\n",
      "[243]\tvalidation_0-logloss:0.35548\tvalidation_1-logloss:0.35428\n",
      "[244]\tvalidation_0-logloss:0.35495\tvalidation_1-logloss:0.35375\n",
      "[245]\tvalidation_0-logloss:0.35440\tvalidation_1-logloss:0.35321\n",
      "[246]\tvalidation_0-logloss:0.35383\tvalidation_1-logloss:0.35264\n",
      "[247]\tvalidation_0-logloss:0.35325\tvalidation_1-logloss:0.35208\n",
      "[248]\tvalidation_0-logloss:0.35285\tvalidation_1-logloss:0.35167\n",
      "[249]\tvalidation_0-logloss:0.35231\tvalidation_1-logloss:0.35115\n",
      "[250]\tvalidation_0-logloss:0.35179\tvalidation_1-logloss:0.35064\n",
      "[251]\tvalidation_0-logloss:0.35124\tvalidation_1-logloss:0.35007\n",
      "[252]\tvalidation_0-logloss:0.35070\tvalidation_1-logloss:0.34955\n",
      "[253]\tvalidation_0-logloss:0.35014\tvalidation_1-logloss:0.34900\n",
      "[254]\tvalidation_0-logloss:0.34957\tvalidation_1-logloss:0.34845\n",
      "[255]\tvalidation_0-logloss:0.34908\tvalidation_1-logloss:0.34797\n",
      "[256]\tvalidation_0-logloss:0.34855\tvalidation_1-logloss:0.34743\n",
      "[257]\tvalidation_0-logloss:0.34800\tvalidation_1-logloss:0.34689\n",
      "[258]\tvalidation_0-logloss:0.34748\tvalidation_1-logloss:0.34636\n",
      "[259]\tvalidation_0-logloss:0.34700\tvalidation_1-logloss:0.34587\n",
      "[260]\tvalidation_0-logloss:0.34647\tvalidation_1-logloss:0.34534\n",
      "[261]\tvalidation_0-logloss:0.34597\tvalidation_1-logloss:0.34485\n",
      "[262]\tvalidation_0-logloss:0.34544\tvalidation_1-logloss:0.34433\n",
      "[263]\tvalidation_0-logloss:0.34499\tvalidation_1-logloss:0.34387\n",
      "[264]\tvalidation_0-logloss:0.34449\tvalidation_1-logloss:0.34338\n",
      "[265]\tvalidation_0-logloss:0.34398\tvalidation_1-logloss:0.34288\n",
      "[266]\tvalidation_0-logloss:0.34347\tvalidation_1-logloss:0.34238\n",
      "[267]\tvalidation_0-logloss:0.34297\tvalidation_1-logloss:0.34188\n",
      "[268]\tvalidation_0-logloss:0.34245\tvalidation_1-logloss:0.34136\n",
      "[269]\tvalidation_0-logloss:0.34195\tvalidation_1-logloss:0.34087\n",
      "[270]\tvalidation_0-logloss:0.34148\tvalidation_1-logloss:0.34039\n",
      "[271]\tvalidation_0-logloss:0.34098\tvalidation_1-logloss:0.33990\n",
      "[272]\tvalidation_0-logloss:0.34049\tvalidation_1-logloss:0.33941\n",
      "[273]\tvalidation_0-logloss:0.34001\tvalidation_1-logloss:0.33894\n",
      "[274]\tvalidation_0-logloss:0.33951\tvalidation_1-logloss:0.33845\n",
      "[275]\tvalidation_0-logloss:0.33903\tvalidation_1-logloss:0.33798\n",
      "[276]\tvalidation_0-logloss:0.33854\tvalidation_1-logloss:0.33750\n",
      "[277]\tvalidation_0-logloss:0.33811\tvalidation_1-logloss:0.33708\n",
      "[278]\tvalidation_0-logloss:0.33766\tvalidation_1-logloss:0.33663\n",
      "[279]\tvalidation_0-logloss:0.33718\tvalidation_1-logloss:0.33618\n",
      "[280]\tvalidation_0-logloss:0.33673\tvalidation_1-logloss:0.33571\n",
      "[281]\tvalidation_0-logloss:0.33631\tvalidation_1-logloss:0.33530\n",
      "[282]\tvalidation_0-logloss:0.33582\tvalidation_1-logloss:0.33482\n",
      "[283]\tvalidation_0-logloss:0.33537\tvalidation_1-logloss:0.33438\n",
      "[284]\tvalidation_0-logloss:0.33493\tvalidation_1-logloss:0.33396\n",
      "[285]\tvalidation_0-logloss:0.33445\tvalidation_1-logloss:0.33348\n",
      "[286]\tvalidation_0-logloss:0.33402\tvalidation_1-logloss:0.33306\n",
      "[287]\tvalidation_0-logloss:0.33359\tvalidation_1-logloss:0.33262\n",
      "[288]\tvalidation_0-logloss:0.33312\tvalidation_1-logloss:0.33216\n",
      "[289]\tvalidation_0-logloss:0.33269\tvalidation_1-logloss:0.33173\n",
      "[290]\tvalidation_0-logloss:0.33226\tvalidation_1-logloss:0.33131\n",
      "[291]\tvalidation_0-logloss:0.33185\tvalidation_1-logloss:0.33090\n",
      "[292]\tvalidation_0-logloss:0.33141\tvalidation_1-logloss:0.33046\n",
      "[293]\tvalidation_0-logloss:0.33098\tvalidation_1-logloss:0.33005\n",
      "[294]\tvalidation_0-logloss:0.33057\tvalidation_1-logloss:0.32964\n",
      "[295]\tvalidation_0-logloss:0.33013\tvalidation_1-logloss:0.32921\n",
      "[296]\tvalidation_0-logloss:0.32975\tvalidation_1-logloss:0.32882\n",
      "[297]\tvalidation_0-logloss:0.32933\tvalidation_1-logloss:0.32842\n",
      "[298]\tvalidation_0-logloss:0.32893\tvalidation_1-logloss:0.32802\n",
      "[299]\tvalidation_0-logloss:0.32852\tvalidation_1-logloss:0.32761\n"
     ]
    }
   ],
   "source": [
    "XGB1 = xgb.XGBClassifier(eval_metric = \"logloss\",objective = \"binary:logistic\", booster = \"gbtree\", tree_method = \"gpu_hist\",\n",
    "                             max_depth = 4, gamma = 2, learning_rate = 0.005, n_estimators = 300, subsample = 0.7 , colsample_bytree = 0.7, min_child_weight = 4, use_label_encoder  = False )\n",
    "evalset1 = [(X_xgb_train[:,1:-1], y_train), (X_xgb_test[:,1:-1], y_test)]\n",
    "XGB1 = XGB1.fit(X_xgb_train[:,1:-1], y_train , eval_metric='logloss', eval_set=evalset1)\n",
    "prediction_test1 = XGB1.predict(X_xgb_test[:,1:-1])\n",
    "f1_xgb = f1_score(y_test,prediction_test1)\n",
    "acc_xgb = accuracy_score(y_test,prediction_test1)"
   ]
  },
  {
   "cell_type": "code",
   "execution_count": 9,
   "metadata": {},
   "outputs": [
    {
     "name": "stdout",
     "output_type": "stream",
     "text": [
      "0.8136376769719734 0.7581098818676167\n",
      "0.8924274593064402 0.8859928745546597\n"
     ]
    }
   ],
   "source": [
    "print(f1_resnet_test, acc_resnet_test)\n",
    "print(f1_xgb, acc_xgb)"
   ]
  },
  {
   "cell_type": "code",
   "execution_count": 10,
   "metadata": {},
   "outputs": [
    {
     "data": {
      "text/plain": [
       "21.332"
      ]
     },
     "execution_count": 10,
     "metadata": {},
     "output_type": "execute_result"
    }
   ],
   "source": [
    "10666/500"
   ]
  },
  {
   "cell_type": "code",
   "execution_count": 11,
   "metadata": {},
   "outputs": [
    {
     "data": {
      "text/plain": [
       "<module 'SSL_method.ssl' from 'd:\\\\AI Project\\\\Icaller\\\\SSL_method\\\\ssl.py'>"
      ]
     },
     "execution_count": 11,
     "metadata": {},
     "output_type": "execute_result"
    }
   ],
   "source": [
    "reload(ssl)"
   ]
  },
  {
   "cell_type": "code",
   "execution_count": 12,
   "metadata": {},
   "outputs": [
    {
     "name": "stdout",
     "output_type": "stream",
     "text": [
      "0.8136376769719734 0.7581098818676167\n",
      "1\n"
     ]
    },
    {
     "name": "stderr",
     "output_type": "stream",
     "text": [
      "100%|██████████| 500/500 [01:05<00:00,  7.64it/s]\n"
     ]
    },
    {
     "name": "stdout",
     "output_type": "stream",
     "text": [
      "0.8716124661246614 0.8578661166322895\n",
      "2\n"
     ]
    },
    {
     "name": "stderr",
     "output_type": "stream",
     "text": [
      "100%|██████████| 500/500 [01:05<00:00,  7.68it/s]\n"
     ]
    },
    {
     "name": "stdout",
     "output_type": "stream",
     "text": [
      "0.8726039016115352 0.8591786986686668\n",
      "3\n"
     ]
    },
    {
     "name": "stderr",
     "output_type": "stream",
     "text": [
      "100%|██████████| 500/500 [01:04<00:00,  7.70it/s]\n"
     ]
    },
    {
     "name": "stdout",
     "output_type": "stream",
     "text": [
      "0.8761136325432847 0.8618038627414213\n",
      "4\n"
     ]
    },
    {
     "name": "stderr",
     "output_type": "stream",
     "text": [
      "100%|██████████| 500/500 [01:04<00:00,  7.71it/s]\n"
     ]
    },
    {
     "name": "stdout",
     "output_type": "stream",
     "text": [
      "0.8756720430107529 0.8612413275829739\n",
      "5\n"
     ]
    },
    {
     "name": "stderr",
     "output_type": "stream",
     "text": [
      "100%|██████████| 500/500 [01:05<00:00,  7.68it/s]\n"
     ]
    },
    {
     "name": "stdout",
     "output_type": "stream",
     "text": [
      "0.8746395250212045 0.8614288393024564\n",
      "6\n"
     ]
    },
    {
     "name": "stderr",
     "output_type": "stream",
     "text": [
      "100%|██████████| 500/500 [01:06<00:00,  7.56it/s]\n"
     ]
    },
    {
     "name": "stdout",
     "output_type": "stream",
     "text": [
      "0.876855600539811 0.8631164447777986\n",
      "7\n"
     ]
    },
    {
     "name": "stderr",
     "output_type": "stream",
     "text": [
      "100%|██████████| 500/500 [01:06<00:00,  7.51it/s]\n"
     ]
    },
    {
     "name": "stdout",
     "output_type": "stream",
     "text": [
      "0.8755698125949688 0.8618038627414213\n",
      "8\n"
     ]
    },
    {
     "name": "stderr",
     "output_type": "stream",
     "text": [
      "100%|██████████| 500/500 [01:06<00:00,  7.56it/s]\n"
     ]
    },
    {
     "name": "stdout",
     "output_type": "stream",
     "text": [
      "0.8761390482618968 0.8623663978998687\n",
      "9\n"
     ]
    },
    {
     "name": "stderr",
     "output_type": "stream",
     "text": [
      "100%|██████████| 500/500 [01:05<00:00,  7.64it/s]\n"
     ]
    },
    {
     "name": "stdout",
     "output_type": "stream",
     "text": [
      "0.8756118143459917 0.8618038627414213\n",
      "10\n"
     ]
    },
    {
     "name": "stderr",
     "output_type": "stream",
     "text": [
      "100%|██████████| 500/500 [01:06<00:00,  7.56it/s]\n"
     ]
    },
    {
     "name": "stdout",
     "output_type": "stream",
     "text": [
      "0.8752521856086078 0.860866304144009\n",
      "11\n"
     ]
    },
    {
     "name": "stderr",
     "output_type": "stream",
     "text": [
      "100%|██████████| 500/500 [01:05<00:00,  7.61it/s]\n"
     ]
    },
    {
     "name": "stdout",
     "output_type": "stream",
     "text": [
      "0.8743261455525607 0.8601162572660791\n",
      "12\n"
     ]
    },
    {
     "name": "stderr",
     "output_type": "stream",
     "text": [
      "100%|██████████| 500/500 [01:05<00:00,  7.62it/s]\n"
     ]
    },
    {
     "name": "stdout",
     "output_type": "stream",
     "text": [
      "0.8749578699022582 0.860866304144009\n",
      "13\n"
     ]
    },
    {
     "name": "stderr",
     "output_type": "stream",
     "text": [
      "100%|██████████| 500/500 [01:06<00:00,  7.56it/s]\n"
     ]
    },
    {
     "name": "stdout",
     "output_type": "stream",
     "text": [
      "0.875993909659956 0.8625539096193512\n",
      "14\n"
     ]
    },
    {
     "name": "stderr",
     "output_type": "stream",
     "text": [
      "100%|██████████| 500/500 [01:05<00:00,  7.58it/s]\n"
     ]
    },
    {
     "name": "stdout",
     "output_type": "stream",
     "text": [
      "0.8766244725738397 0.8629289330583162\n",
      "15\n"
     ]
    },
    {
     "name": "stderr",
     "output_type": "stream",
     "text": [
      "100%|██████████| 500/500 [01:06<00:00,  7.46it/s]\n"
     ]
    },
    {
     "name": "stdout",
     "output_type": "stream",
     "text": [
      "0.8766937669376694 0.8634914682167636\n",
      "16\n"
     ]
    },
    {
     "name": "stderr",
     "output_type": "stream",
     "text": [
      "100%|██████████| 500/500 [01:06<00:00,  7.56it/s]\n"
     ]
    },
    {
     "name": "stdout",
     "output_type": "stream",
     "text": [
      "0.8774193548387097 0.8646165385336584\n",
      "17\n"
     ]
    },
    {
     "name": "stderr",
     "output_type": "stream",
     "text": [
      "100%|██████████| 500/500 [01:06<00:00,  7.49it/s]\n"
     ]
    },
    {
     "name": "stdout",
     "output_type": "stream",
     "text": [
      "0.8768054375531011 0.864054003375211\n",
      "18\n"
     ]
    },
    {
     "name": "stderr",
     "output_type": "stream",
     "text": [
      "100%|██████████| 500/500 [01:06<00:00,  7.54it/s]\n"
     ]
    },
    {
     "name": "stdout",
     "output_type": "stream",
     "text": [
      "0.876465590484282 0.863678979936246\n",
      "19\n"
     ]
    },
    {
     "name": "stderr",
     "output_type": "stream",
     "text": [
      "100%|██████████| 500/500 [01:05<00:00,  7.58it/s]\n"
     ]
    },
    {
     "name": "stdout",
     "output_type": "stream",
     "text": [
      "0.8773120651620567 0.8644290268141759\n",
      "20\n"
     ]
    },
    {
     "name": "stderr",
     "output_type": "stream",
     "text": [
      "100%|██████████| 500/500 [01:06<00:00,  7.51it/s]\n"
     ]
    },
    {
     "name": "stdout",
     "output_type": "stream",
     "text": [
      "0.8773360516479782 0.8646165385336584\n",
      "21\n"
     ]
    },
    {
     "name": "stderr",
     "output_type": "stream",
     "text": [
      "100%|██████████| 500/500 [01:06<00:00,  7.48it/s]\n"
     ]
    },
    {
     "name": "stdout",
     "output_type": "stream",
     "text": [
      "0.8771691051378019 0.8646165385336584\n"
     ]
    }
   ],
   "source": [
    "model_graph.load_state_dict(torch.load(\"mode_new.pt\", map_location='cpu'))\n",
    "SSL = ssl.SSLClassifier(estimators= [XGB1,model_graph],\n",
    "                    X_trains= [X_xgb_train, X_gnn_train],\n",
    "                    y_train= y_train,\n",
    "                    X_vals= [X_xgb_test, X_gnn_test],\n",
    "                    y_val= y_test,\n",
    "                    links=links,\n",
    "                    p=30,\n",
    "                    n=30,\n",
    "                    k=80,\n",
    "                    unlabeled_pool_size=500,\n",
    "                    type_ssl='co2al',\n",
    "                    type_estimator='gb'\n",
    "                    )\n",
    "acc_co2al1,f1_co2al1,acc_co2al2,f1_co2al2 = SSL.fit(X_pools = [X_xgb_unlabeled, X_gnn_unlabeled],\n",
    "                y_pool = y_pool)"
   ]
  },
  {
   "cell_type": "code",
   "execution_count": 20,
   "metadata": {},
   "outputs": [
    {
     "data": {
      "image/png": "[encoded data removed]",
      "text/plain": [
       "<Figure size 432x288 with 1 Axes>"
      ]
     },
     "metadata": {
      "needs_background": "light"
     },
     "output_type": "display_data"
    }
   ],
   "source": [
    "hnd2, = plt.plot(acc_co2al2,'c',label='Co2AL')"
   ]
  },
  {
   "cell_type": "code",
   "execution_count": 14,
   "metadata": {},
   "outputs": [],
   "source": [
    "# model_graph.load_state_dict(torch.load(\"mode_new.pt\", map_location='cpu'))\n",
    "# SSL = ssl.SSLClassifier(estimators= [XGB1,model_graph],\n",
    "#                     X_trains= [X_xgb_train, X_gnn_train],\n",
    "#                     y_train= y_train,\n",
    "#                     X_vals= [X_xgb_test, X_gnn_test],\n",
    "#                     y_val= y_test,\n",
    "#                     links=links,\n",
    "#                     p=30,\n",
    "#                     n=30,\n",
    "#                     k=30,\n",
    "#                     unlabeled_pool_size=300,\n",
    "#                     type_ssl='al',\n",
    "#                     type_estimator='gb'\n",
    "#                     )\n",
    "# acc_al1,f1_al1,acc_al2,f1_al2 = SSL.fit(X_pools = [X_xgb_unlabeled, X_gnn_unlabeled],\n",
    "#                 y_pool = y_pool)"
   ]
  },
  {
   "cell_type": "code",
   "execution_count": 15,
   "metadata": {},
   "outputs": [],
   "source": [
    "# model_graph.load_state_dict(torch.load(\"mode_new.pt\", map_location='cpu'))\n",
    "# SSL = ssl.SSLClassifier(estimators= [XGB1,model_graph],\n",
    "#                     X_trains= [X_xgb_train, X_gnn_train],\n",
    "#                     y_train= y_train,\n",
    "#                     X_vals= [X_xgb_test, X_gnn_test],\n",
    "#                     y_val= y_test,\n",
    "#                     links=links,\n",
    "#                     p=50,\n",
    "#                     n=50,\n",
    "#                     k=30,\n",
    "#                     unlabeled_pool_size=500,\n",
    "#                     type_ssl='coal',\n",
    "#                     type_estimator='gb'\n",
    "#                     )\n",
    "# acc_coal1,f1_coal1,acc_coal2,f1_coal2 = SSL.fit(X_pools = [X_xgb_unlabeled, X_gnn_unlabeled],\n",
    "#                 y_pool = y_pool)"
   ]
  },
  {
   "cell_type": "code",
   "execution_count": 16,
   "metadata": {},
   "outputs": [],
   "source": [
    "# reload(ssl)"
   ]
  },
  {
   "cell_type": "code",
   "execution_count": 17,
   "metadata": {},
   "outputs": [],
   "source": [
    "\n",
    "# hnd1, = plt.plot(acc_al2,'g',label='Active learning')\n",
    "# hnd2, = plt.plot(acc_coal2,'b',label='SLLCA')\n",
    "# hnd2, = plt.plot(acc_co2al2,'c',label='Cotrain2AL')\n",
    "\n",
    "# plt.legend(loc='best')\n",
    "# plt.ylabel('Accuracy')\n",
    "# plt.xlabel('Iteration')\n",
    "# plt.title('Cotrain to ActiveLearning')\n",
    "# plt.rcParams[\"figure.figsize\"] = (10,10)\n",
    "# plt.show()"
   ]
  },
  {
   "cell_type": "code",
   "execution_count": 2,
   "metadata": {},
   "outputs": [],
   "source": [
    "# pd.DataFrame({'acc_co2al2': acc_co2al2}).to_csv(\"output.csv\")"
   ]
  },
  {
   "cell_type": "code",
   "execution_count": 4,
   "metadata": {},
   "outputs": [
    {
     "data": {
      "text/html": [
       "<div>\n",
       "<style scoped>\n",
       "    .dataframe tbody tr th:only-of-type {\n",
       "        vertical-align: middle;\n",
       "    }\n",
       "\n",
       "    .dataframe tbody tr th {\n",
       "        vertical-align: top;\n",
       "    }\n",
       "\n",
       "    .dataframe thead th {\n",
       "        text-align: right;\n",
       "    }\n",
       "</style>\n",
       "<table border=\"1\" class=\"dataframe\">\n",
       "  <thead>\n",
       "    <tr style=\"text-align: right;\">\n",
       "      <th></th>\n",
       "      <th>acc_co2al2</th>\n",
       "      <th>acc_al2</th>\n",
       "      <th>acc_coal2</th>\n",
       "    </tr>\n",
       "  </thead>\n",
       "  <tbody>\n",
       "    <tr>\n",
       "      <th>0</th>\n",
       "      <td>0.857866</td>\n",
       "      <td>0.857304</td>\n",
       "      <td>0.858420</td>\n",
       "    </tr>\n",
       "    <tr>\n",
       "      <th>1</th>\n",
       "      <td>0.859179</td>\n",
       "      <td>0.858429</td>\n",
       "      <td>0.861610</td>\n",
       "    </tr>\n",
       "    <tr>\n",
       "      <th>2</th>\n",
       "      <td>0.861804</td>\n",
       "      <td>0.863304</td>\n",
       "      <td>0.862075</td>\n",
       "    </tr>\n",
       "    <tr>\n",
       "      <th>3</th>\n",
       "      <td>0.861241</td>\n",
       "      <td>0.860866</td>\n",
       "      <td>0.860660</td>\n",
       "    </tr>\n",
       "    <tr>\n",
       "      <th>4</th>\n",
       "      <td>0.861429</td>\n",
       "      <td>0.863116</td>\n",
       "      <td>0.861051</td>\n",
       "    </tr>\n",
       "    <tr>\n",
       "      <th>5</th>\n",
       "      <td>0.863116</td>\n",
       "      <td>0.861429</td>\n",
       "      <td>0.864340</td>\n",
       "    </tr>\n",
       "    <tr>\n",
       "      <th>6</th>\n",
       "      <td>0.861804</td>\n",
       "      <td>0.859929</td>\n",
       "      <td>0.863831</td>\n",
       "    </tr>\n",
       "    <tr>\n",
       "      <th>7</th>\n",
       "      <td>0.862366</td>\n",
       "      <td>0.862179</td>\n",
       "      <td>0.862063</td>\n",
       "    </tr>\n",
       "    <tr>\n",
       "      <th>8</th>\n",
       "      <td>0.861804</td>\n",
       "      <td>0.859741</td>\n",
       "      <td>0.861552</td>\n",
       "    </tr>\n",
       "    <tr>\n",
       "      <th>9</th>\n",
       "      <td>0.860866</td>\n",
       "      <td>0.860679</td>\n",
       "      <td>0.861423</td>\n",
       "    </tr>\n",
       "    <tr>\n",
       "      <th>10</th>\n",
       "      <td>0.860116</td>\n",
       "      <td>0.859929</td>\n",
       "      <td>0.862663</td>\n",
       "    </tr>\n",
       "    <tr>\n",
       "      <th>11</th>\n",
       "      <td>0.860866</td>\n",
       "      <td>0.861241</td>\n",
       "      <td>0.860924</td>\n",
       "    </tr>\n",
       "    <tr>\n",
       "      <th>12</th>\n",
       "      <td>0.862554</td>\n",
       "      <td>0.863866</td>\n",
       "      <td>0.859942</td>\n",
       "    </tr>\n",
       "    <tr>\n",
       "      <th>13</th>\n",
       "      <td>0.862929</td>\n",
       "      <td>0.860866</td>\n",
       "      <td>0.860680</td>\n",
       "    </tr>\n",
       "    <tr>\n",
       "      <th>14</th>\n",
       "      <td>0.863491</td>\n",
       "      <td>0.862741</td>\n",
       "      <td>0.857991</td>\n",
       "    </tr>\n",
       "    <tr>\n",
       "      <th>15</th>\n",
       "      <td>0.864617</td>\n",
       "      <td>0.861429</td>\n",
       "      <td>0.858708</td>\n",
       "    </tr>\n",
       "    <tr>\n",
       "      <th>16</th>\n",
       "      <td>0.864054</td>\n",
       "      <td>0.861804</td>\n",
       "      <td>0.863629</td>\n",
       "    </tr>\n",
       "    <tr>\n",
       "      <th>17</th>\n",
       "      <td>0.863679</td>\n",
       "      <td>0.861054</td>\n",
       "      <td>0.857500</td>\n",
       "    </tr>\n",
       "    <tr>\n",
       "      <th>18</th>\n",
       "      <td>0.864429</td>\n",
       "      <td>0.861991</td>\n",
       "      <td>0.859222</td>\n",
       "    </tr>\n",
       "    <tr>\n",
       "      <th>19</th>\n",
       "      <td>0.864617</td>\n",
       "      <td>0.861616</td>\n",
       "      <td>0.857425</td>\n",
       "    </tr>\n",
       "    <tr>\n",
       "      <th>20</th>\n",
       "      <td>0.864617</td>\n",
       "      <td>0.861054</td>\n",
       "      <td>0.858287</td>\n",
       "    </tr>\n",
       "  </tbody>\n",
       "</table>\n",
       "</div>"
      ],
      "text/plain": [
       "    acc_co2al2   acc_al2  acc_coal2\n",
       "0     0.857866  0.857304   0.858420\n",
       "1     0.859179  0.858429   0.861610\n",
       "2     0.861804  0.863304   0.862075\n",
       "3     0.861241  0.860866   0.860660\n",
       "4     0.861429  0.863116   0.861051\n",
       "5     0.863116  0.861429   0.864340\n",
       "6     0.861804  0.859929   0.863831\n",
       "7     0.862366  0.862179   0.862063\n",
       "8     0.861804  0.859741   0.861552\n",
       "9     0.860866  0.860679   0.861423\n",
       "10    0.860116  0.859929   0.862663\n",
       "11    0.860866  0.861241   0.860924\n",
       "12    0.862554  0.863866   0.859942\n",
       "13    0.862929  0.860866   0.860680\n",
       "14    0.863491  0.862741   0.857991\n",
       "15    0.864617  0.861429   0.858708\n",
       "16    0.864054  0.861804   0.863629\n",
       "17    0.863679  0.861054   0.857500\n",
       "18    0.864429  0.861991   0.859222\n",
       "19    0.864617  0.861616   0.857425\n",
       "20    0.864617  0.861054   0.858287"
      ]
     },
     "execution_count": 4,
     "metadata": {},
     "output_type": "execute_result"
    }
   ],
   "source": [
    "output = pd.read_excel(\"output.xlsx\")[['acc_co2al2','acc_al2','acc_coal2']]\n",
    "output"
   ]
  },
  {
   "cell_type": "code",
   "execution_count": 12,
   "metadata": {},
   "outputs": [
    {
     "data": {
      "image/png": "[encoded data removed]",
      "text/plain": [
       "<Figure size 1080x1080 with 1 Axes>"
      ]
     },
     "metadata": {
      "needs_background": "light"
     },
     "output_type": "display_data"
    }
   ],
   "source": [
    "hnd1, = plt.plot(output.acc_al2,'g',label='Active learning')\n",
    "hnd2, = plt.plot(output.acc_coal2,'b',label='SLLCA')\n",
    "hnd2, = plt.plot(output.acc_co2al2,'c',label='Cotrain2ActiveLearning')\n",
    "\n",
    "plt.legend(loc='best')\n",
    "plt.ylabel('Accuracy')\n",
    "plt.xlabel('Iteration')\n",
    "plt.title('Cotrain to ActiveLearning')\n",
    "plt.rcParams[\"figure.figsize\"] = (15,15)\n",
    "plt.show()"
   ]
  },
  {
   "cell_type": "code",
   "execution_count": null,
   "metadata": {},
   "outputs": [],
   "source": []
  }
 ],
 "metadata": {
  "kernelspec": {
   "display_name": "Python 3.8.8 ('base')",
   "language": "python",
   "name": "python3"
  },
  "language_info": {
   "codemirror_mode": {
    "name": "ipython",
    "version": 3
   },
   "file_extension": ".py",
   "mimetype": "text/x-python",
   "name": "python",
   "nbconvert_exporter": "python",
   "pygments_lexer": "ipython3",
   "version": "3.8.8"
  },
  "orig_nbformat": 4,
  "vscode": {
   "interpreter": {
    "hash": "0250446e861f3e3bb58ab720aa611cbf2b8f13eae5d18b0ae3b7b996675fb1df"
   }
  }
 },
 "nbformat": 4,
 "nbformat_minor": 2
}
